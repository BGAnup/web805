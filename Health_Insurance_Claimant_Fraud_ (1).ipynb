{
 "cells": [
  {
   "cell_type": "markdown",
   "id": "8e7cbfbf",
   "metadata": {
    "id": "8e7cbfbf"
   },
   "source": [
    "# Importing Required Libraries"
   ]
  },
  {
   "cell_type": "code",
   "execution_count": 1,
   "id": "44016fd2",
   "metadata": {
    "id": "44016fd2"
   },
   "outputs": [],
   "source": [
    "import pandas as pd \n",
    "import numpy as np \n",
    "import matplotlib.pyplot as plt \n",
    "import seaborn as sb \n",
    "from sklearn.preprocessing import LabelEncoder\n",
    "from sklearn.feature_selection import SelectKBest, f_classif\n",
    "from sklearn.model_selection import train_test_split #importing train_test_split function"
   ]
  },
  {
   "cell_type": "markdown",
   "id": "c08e1e8a",
   "metadata": {
    "id": "c08e1e8a"
   },
   "source": [
    "# Loading the Data"
   ]
  },
  {
   "cell_type": "code",
   "execution_count": 2,
   "id": "235e434f",
   "metadata": {},
   "outputs": [],
   "source": [
    "data = pd.read_csv('Health_insurance_data.csv')"
   ]
  },
  {
   "cell_type": "code",
   "execution_count": 3,
   "id": "20691659",
   "metadata": {
    "colab": {
     "base_uri": "https://localhost:8080/",
     "height": 887
    },
    "id": "20691659",
    "outputId": "ad44b5e7-58cc-4e7a-9bde-c3a7c4350a90"
   },
   "outputs": [
    {
     "data": {
      "text/html": [
       "<div>\n",
       "<style scoped>\n",
       "    .dataframe tbody tr th:only-of-type {\n",
       "        vertical-align: middle;\n",
       "    }\n",
       "\n",
       "    .dataframe tbody tr th {\n",
       "        vertical-align: top;\n",
       "    }\n",
       "\n",
       "    .dataframe thead th {\n",
       "        text-align: right;\n",
       "    }\n",
       "</style>\n",
       "<table border=\"1\" class=\"dataframe\">\n",
       "  <thead>\n",
       "    <tr style=\"text-align: right;\">\n",
       "      <th></th>\n",
       "      <th>Area_Service</th>\n",
       "      <th>Hospital County</th>\n",
       "      <th>Hospital Id</th>\n",
       "      <th>Age</th>\n",
       "      <th>Gender</th>\n",
       "      <th>Cultural_group</th>\n",
       "      <th>ethnicity</th>\n",
       "      <th>Days_spend_hsptl</th>\n",
       "      <th>Admission_type</th>\n",
       "      <th>Home or self care,</th>\n",
       "      <th>...</th>\n",
       "      <th>Mortality risk</th>\n",
       "      <th>Surg_Description</th>\n",
       "      <th>Weight_baby</th>\n",
       "      <th>Abortion</th>\n",
       "      <th>Emergency dept_yes/No</th>\n",
       "      <th>Tot_charg</th>\n",
       "      <th>Tot_cost</th>\n",
       "      <th>ratio_of_total_costs_to_total_charges</th>\n",
       "      <th>Result</th>\n",
       "      <th>Payment_Typology</th>\n",
       "    </tr>\n",
       "  </thead>\n",
       "  <tbody>\n",
       "    <tr>\n",
       "      <th>0</th>\n",
       "      <td>Western NY</td>\n",
       "      <td>Allegany</td>\n",
       "      <td>37.0</td>\n",
       "      <td>30 to 49</td>\n",
       "      <td>F</td>\n",
       "      <td>White</td>\n",
       "      <td>Not Span/Hispanic</td>\n",
       "      <td>4</td>\n",
       "      <td>Elective</td>\n",
       "      <td>Home or Self Care</td>\n",
       "      <td>...</td>\n",
       "      <td>1</td>\n",
       "      <td>Medical</td>\n",
       "      <td>0</td>\n",
       "      <td>N</td>\n",
       "      <td>Y</td>\n",
       "      <td>5511.95</td>\n",
       "      <td>5582.49</td>\n",
       "      <td>1.012798</td>\n",
       "      <td>1</td>\n",
       "      <td>1</td>\n",
       "    </tr>\n",
       "    <tr>\n",
       "      <th>1</th>\n",
       "      <td>Western NY</td>\n",
       "      <td>Allegany</td>\n",
       "      <td>37.0</td>\n",
       "      <td>70 or Older</td>\n",
       "      <td>F</td>\n",
       "      <td>White</td>\n",
       "      <td>Not Span/Hispanic</td>\n",
       "      <td>4</td>\n",
       "      <td>Urgent</td>\n",
       "      <td>Short-term Hospital</td>\n",
       "      <td>...</td>\n",
       "      <td>2</td>\n",
       "      <td>Medical</td>\n",
       "      <td>0</td>\n",
       "      <td>N</td>\n",
       "      <td>Y</td>\n",
       "      <td>4783.20</td>\n",
       "      <td>5162.82</td>\n",
       "      <td>1.079365</td>\n",
       "      <td>1</td>\n",
       "      <td>1</td>\n",
       "    </tr>\n",
       "    <tr>\n",
       "      <th>2</th>\n",
       "      <td>Western NY</td>\n",
       "      <td>Allegany</td>\n",
       "      <td>37.0</td>\n",
       "      <td>30 to 49</td>\n",
       "      <td>F</td>\n",
       "      <td>White</td>\n",
       "      <td>Not Span/Hispanic</td>\n",
       "      <td>3</td>\n",
       "      <td>Urgent</td>\n",
       "      <td>Home or Self Care</td>\n",
       "      <td>...</td>\n",
       "      <td>1</td>\n",
       "      <td>Medical</td>\n",
       "      <td>0</td>\n",
       "      <td>N</td>\n",
       "      <td>Y</td>\n",
       "      <td>3829.15</td>\n",
       "      <td>4056.52</td>\n",
       "      <td>1.059379</td>\n",
       "      <td>1</td>\n",
       "      <td>1</td>\n",
       "    </tr>\n",
       "    <tr>\n",
       "      <th>3</th>\n",
       "      <td>Western NY</td>\n",
       "      <td>Allegany</td>\n",
       "      <td>37.0</td>\n",
       "      <td>0 to 17</td>\n",
       "      <td>F</td>\n",
       "      <td>White</td>\n",
       "      <td>Not Span/Hispanic</td>\n",
       "      <td>1</td>\n",
       "      <td>Urgent</td>\n",
       "      <td>Home or Self Care</td>\n",
       "      <td>...</td>\n",
       "      <td>1</td>\n",
       "      <td>Medical</td>\n",
       "      <td>0</td>\n",
       "      <td>N</td>\n",
       "      <td>Y</td>\n",
       "      <td>1108.20</td>\n",
       "      <td>1644.75</td>\n",
       "      <td>1.484167</td>\n",
       "      <td>0</td>\n",
       "      <td>1</td>\n",
       "    </tr>\n",
       "    <tr>\n",
       "      <th>4</th>\n",
       "      <td>Western NY</td>\n",
       "      <td>Allegany</td>\n",
       "      <td>37.0</td>\n",
       "      <td>70 or Older</td>\n",
       "      <td>F</td>\n",
       "      <td>White</td>\n",
       "      <td>Not Span/Hispanic</td>\n",
       "      <td>3</td>\n",
       "      <td>Elective</td>\n",
       "      <td>Home or Self Care</td>\n",
       "      <td>...</td>\n",
       "      <td>3</td>\n",
       "      <td>Medical</td>\n",
       "      <td>0</td>\n",
       "      <td>N</td>\n",
       "      <td>Y</td>\n",
       "      <td>3418.18</td>\n",
       "      <td>3370.87</td>\n",
       "      <td>0.986161</td>\n",
       "      <td>1</td>\n",
       "      <td>1</td>\n",
       "    </tr>\n",
       "    <tr>\n",
       "      <th>...</th>\n",
       "      <td>...</td>\n",
       "      <td>...</td>\n",
       "      <td>...</td>\n",
       "      <td>...</td>\n",
       "      <td>...</td>\n",
       "      <td>...</td>\n",
       "      <td>...</td>\n",
       "      <td>...</td>\n",
       "      <td>...</td>\n",
       "      <td>...</td>\n",
       "      <td>...</td>\n",
       "      <td>...</td>\n",
       "      <td>...</td>\n",
       "      <td>...</td>\n",
       "      <td>...</td>\n",
       "      <td>...</td>\n",
       "      <td>...</td>\n",
       "      <td>...</td>\n",
       "      <td>...</td>\n",
       "      <td>...</td>\n",
       "      <td>...</td>\n",
       "    </tr>\n",
       "    <tr>\n",
       "      <th>2494</th>\n",
       "      <td>Western NY</td>\n",
       "      <td>Cattaraugus</td>\n",
       "      <td>66.0</td>\n",
       "      <td>50 to 69</td>\n",
       "      <td>M</td>\n",
       "      <td>White</td>\n",
       "      <td>Not Span/Hispanic</td>\n",
       "      <td>1</td>\n",
       "      <td>Emergency</td>\n",
       "      <td>Home or Self Care</td>\n",
       "      <td>...</td>\n",
       "      <td>1</td>\n",
       "      <td>Medical</td>\n",
       "      <td>0</td>\n",
       "      <td>N</td>\n",
       "      <td>Y</td>\n",
       "      <td>2883.48</td>\n",
       "      <td>2921.14</td>\n",
       "      <td>1.013059</td>\n",
       "      <td>1</td>\n",
       "      <td>2</td>\n",
       "    </tr>\n",
       "    <tr>\n",
       "      <th>2495</th>\n",
       "      <td>Western NY</td>\n",
       "      <td>Cattaraugus</td>\n",
       "      <td>66.0</td>\n",
       "      <td>18 to 29</td>\n",
       "      <td>M</td>\n",
       "      <td>White</td>\n",
       "      <td>Not Span/Hispanic</td>\n",
       "      <td>2</td>\n",
       "      <td>Emergency</td>\n",
       "      <td>Home or Self Care</td>\n",
       "      <td>...</td>\n",
       "      <td>1</td>\n",
       "      <td>Medical</td>\n",
       "      <td>0</td>\n",
       "      <td>N</td>\n",
       "      <td>Y</td>\n",
       "      <td>6574.38</td>\n",
       "      <td>2157.40</td>\n",
       "      <td>0.328152</td>\n",
       "      <td>1</td>\n",
       "      <td>1</td>\n",
       "    </tr>\n",
       "    <tr>\n",
       "      <th>2496</th>\n",
       "      <td>Western NY</td>\n",
       "      <td>Cattaraugus</td>\n",
       "      <td>66.0</td>\n",
       "      <td>18 to 29</td>\n",
       "      <td>F</td>\n",
       "      <td>White</td>\n",
       "      <td>Not Span/Hispanic</td>\n",
       "      <td>3</td>\n",
       "      <td>Elective</td>\n",
       "      <td>Home or Self Care</td>\n",
       "      <td>...</td>\n",
       "      <td>1</td>\n",
       "      <td>Medical</td>\n",
       "      <td>0</td>\n",
       "      <td>N</td>\n",
       "      <td>N</td>\n",
       "      <td>3199.50</td>\n",
       "      <td>1191.08</td>\n",
       "      <td>0.372269</td>\n",
       "      <td>0</td>\n",
       "      <td>1</td>\n",
       "    </tr>\n",
       "    <tr>\n",
       "      <th>2497</th>\n",
       "      <td>Western NY</td>\n",
       "      <td>Cattaraugus</td>\n",
       "      <td>66.0</td>\n",
       "      <td>50 to 69</td>\n",
       "      <td>M</td>\n",
       "      <td>White</td>\n",
       "      <td>Not Span/Hispanic</td>\n",
       "      <td>2</td>\n",
       "      <td>Emergency</td>\n",
       "      <td>Home or Self Care</td>\n",
       "      <td>...</td>\n",
       "      <td>3</td>\n",
       "      <td>Medical</td>\n",
       "      <td>0</td>\n",
       "      <td>N</td>\n",
       "      <td>Y</td>\n",
       "      <td>8667.48</td>\n",
       "      <td>5114.17</td>\n",
       "      <td>0.590041</td>\n",
       "      <td>1</td>\n",
       "      <td>1</td>\n",
       "    </tr>\n",
       "    <tr>\n",
       "      <th>2498</th>\n",
       "      <td>Western NY</td>\n",
       "      <td>Cattaraugus</td>\n",
       "      <td>66.0</td>\n",
       "      <td>0 to 17</td>\n",
       "      <td>U</td>\n",
       "      <td>White</td>\n",
       "      <td>Not Span/Hispanic</td>\n",
       "      <td>2</td>\n",
       "      <td>Newborn</td>\n",
       "      <td>Home or Self Care</td>\n",
       "      <td>...</td>\n",
       "      <td>1</td>\n",
       "      <td>Medical</td>\n",
       "      <td>3300</td>\n",
       "      <td>N</td>\n",
       "      <td>N</td>\n",
       "      <td>1140.00</td>\n",
       "      <td>786.40</td>\n",
       "      <td>0.689822</td>\n",
       "      <td>1</td>\n",
       "      <td>1</td>\n",
       "    </tr>\n",
       "  </tbody>\n",
       "</table>\n",
       "<p>2499 rows × 24 columns</p>\n",
       "</div>"
      ],
      "text/plain": [
       "     Area_Service Hospital County  Hospital Id          Age Gender  \\\n",
       "0      Western NY        Allegany         37.0     30 to 49      F   \n",
       "1      Western NY        Allegany         37.0  70 or Older      F   \n",
       "2      Western NY        Allegany         37.0     30 to 49      F   \n",
       "3      Western NY        Allegany         37.0      0 to 17      F   \n",
       "4      Western NY        Allegany         37.0  70 or Older      F   \n",
       "...           ...             ...          ...          ...    ...   \n",
       "2494   Western NY     Cattaraugus         66.0     50 to 69      M   \n",
       "2495   Western NY     Cattaraugus         66.0     18 to 29      M   \n",
       "2496   Western NY     Cattaraugus         66.0     18 to 29      F   \n",
       "2497   Western NY     Cattaraugus         66.0     50 to 69      M   \n",
       "2498   Western NY     Cattaraugus         66.0      0 to 17      U   \n",
       "\n",
       "     Cultural_group          ethnicity  Days_spend_hsptl Admission_type  \\\n",
       "0             White  Not Span/Hispanic                 4       Elective   \n",
       "1             White  Not Span/Hispanic                 4         Urgent   \n",
       "2             White  Not Span/Hispanic                 3         Urgent   \n",
       "3             White  Not Span/Hispanic                 1         Urgent   \n",
       "4             White  Not Span/Hispanic                 3       Elective   \n",
       "...             ...                ...               ...            ...   \n",
       "2494          White  Not Span/Hispanic                 1      Emergency   \n",
       "2495          White  Not Span/Hispanic                 2      Emergency   \n",
       "2496          White  Not Span/Hispanic                 3       Elective   \n",
       "2497          White  Not Span/Hispanic                 2      Emergency   \n",
       "2498          White  Not Span/Hispanic                 2        Newborn   \n",
       "\n",
       "       Home or self care,  ...  Mortality risk  Surg_Description Weight_baby  \\\n",
       "0       Home or Self Care  ...               1           Medical           0   \n",
       "1     Short-term Hospital  ...               2           Medical           0   \n",
       "2       Home or Self Care  ...               1           Medical           0   \n",
       "3       Home or Self Care  ...               1           Medical           0   \n",
       "4       Home or Self Care  ...               3           Medical           0   \n",
       "...                   ...  ...             ...               ...         ...   \n",
       "2494    Home or Self Care  ...               1           Medical           0   \n",
       "2495    Home or Self Care  ...               1           Medical           0   \n",
       "2496    Home or Self Care  ...               1           Medical           0   \n",
       "2497    Home or Self Care  ...               3           Medical           0   \n",
       "2498    Home or Self Care  ...               1           Medical        3300   \n",
       "\n",
       "      Abortion  Emergency dept_yes/No Tot_charg  Tot_cost  \\\n",
       "0            N                      Y   5511.95   5582.49   \n",
       "1            N                      Y   4783.20   5162.82   \n",
       "2            N                      Y   3829.15   4056.52   \n",
       "3            N                      Y   1108.20   1644.75   \n",
       "4            N                      Y   3418.18   3370.87   \n",
       "...        ...                    ...       ...       ...   \n",
       "2494         N                      Y   2883.48   2921.14   \n",
       "2495         N                      Y   6574.38   2157.40   \n",
       "2496         N                      N   3199.50   1191.08   \n",
       "2497         N                      Y   8667.48   5114.17   \n",
       "2498         N                      N   1140.00    786.40   \n",
       "\n",
       "     ratio_of_total_costs_to_total_charges Result  Payment_Typology  \n",
       "0                                 1.012798      1                 1  \n",
       "1                                 1.079365      1                 1  \n",
       "2                                 1.059379      1                 1  \n",
       "3                                 1.484167      0                 1  \n",
       "4                                 0.986161      1                 1  \n",
       "...                                    ...    ...               ...  \n",
       "2494                              1.013059      1                 2  \n",
       "2495                              0.328152      1                 1  \n",
       "2496                              0.372269      0                 1  \n",
       "2497                              0.590041      1                 1  \n",
       "2498                              0.689822      1                 1  \n",
       "\n",
       "[2499 rows x 24 columns]"
      ]
     },
     "execution_count": 3,
     "metadata": {},
     "output_type": "execute_result"
    }
   ],
   "source": [
    "data"
   ]
  },
  {
   "cell_type": "code",
   "execution_count": 4,
   "id": "9cea851e",
   "metadata": {
    "colab": {
     "base_uri": "https://localhost:8080/"
    },
    "id": "9cea851e",
    "outputId": "cf026e9d-bed2-4675-f360-0ebcaf0dafaf"
   },
   "outputs": [
    {
     "name": "stdout",
     "output_type": "stream",
     "text": [
      "<class 'pandas.core.frame.DataFrame'>\n",
      "RangeIndex: 2499 entries, 0 to 2498\n",
      "Data columns (total 24 columns):\n",
      " #   Column                                 Non-Null Count  Dtype  \n",
      "---  ------                                 --------------  -----  \n",
      " 0   Area_Service                           2479 non-null   object \n",
      " 1   Hospital County                        2479 non-null   object \n",
      " 2   Hospital Id                            2479 non-null   float64\n",
      " 3   Age                                    2499 non-null   object \n",
      " 4   Gender                                 2499 non-null   object \n",
      " 5   Cultural_group                         2499 non-null   object \n",
      " 6   ethnicity                              2499 non-null   object \n",
      " 7   Days_spend_hsptl                       2499 non-null   int64  \n",
      " 8   Admission_type                         2499 non-null   object \n",
      " 9   Home or self care,                     2499 non-null   object \n",
      " 10  ccs_diagnosis_code                     2499 non-null   int64  \n",
      " 11  ccs_procedure_code                     2499 non-null   int64  \n",
      " 12  apr_drg_description                    2499 non-null   object \n",
      " 13  Code_illness                           2499 non-null   int64  \n",
      " 14  Mortality risk                         2499 non-null   int64  \n",
      " 15  Surg_Description                       2499 non-null   object \n",
      " 16  Weight_baby                            2499 non-null   int64  \n",
      " 17  Abortion                               2499 non-null   object \n",
      " 18  Emergency dept_yes/No                  2499 non-null   object \n",
      " 19  Tot_charg                              2499 non-null   float64\n",
      " 20  Tot_cost                               2499 non-null   float64\n",
      " 21  ratio_of_total_costs_to_total_charges  2499 non-null   float64\n",
      " 22  Result                                 2499 non-null   int64  \n",
      " 23  Payment_Typology                       2499 non-null   int64  \n",
      "dtypes: float64(4), int64(8), object(12)\n",
      "memory usage: 468.7+ KB\n"
     ]
    }
   ],
   "source": [
    "data.info()"
   ]
  },
  {
   "cell_type": "code",
   "execution_count": 5,
   "id": "c443f388",
   "metadata": {
    "colab": {
     "base_uri": "https://localhost:8080/",
     "height": 382
    },
    "id": "c443f388",
    "outputId": "a162e59c-9961-4707-a74e-ed2a65db964f"
   },
   "outputs": [
    {
     "data": {
      "text/html": [
       "<div>\n",
       "<style scoped>\n",
       "    .dataframe tbody tr th:only-of-type {\n",
       "        vertical-align: middle;\n",
       "    }\n",
       "\n",
       "    .dataframe tbody tr th {\n",
       "        vertical-align: top;\n",
       "    }\n",
       "\n",
       "    .dataframe thead th {\n",
       "        text-align: right;\n",
       "    }\n",
       "</style>\n",
       "<table border=\"1\" class=\"dataframe\">\n",
       "  <thead>\n",
       "    <tr style=\"text-align: right;\">\n",
       "      <th></th>\n",
       "      <th>Hospital Id</th>\n",
       "      <th>Days_spend_hsptl</th>\n",
       "      <th>ccs_diagnosis_code</th>\n",
       "      <th>ccs_procedure_code</th>\n",
       "      <th>Code_illness</th>\n",
       "      <th>Mortality risk</th>\n",
       "      <th>Weight_baby</th>\n",
       "      <th>Tot_charg</th>\n",
       "      <th>Tot_cost</th>\n",
       "      <th>ratio_of_total_costs_to_total_charges</th>\n",
       "      <th>Result</th>\n",
       "      <th>Payment_Typology</th>\n",
       "    </tr>\n",
       "  </thead>\n",
       "  <tbody>\n",
       "    <tr>\n",
       "      <th>count</th>\n",
       "      <td>2479.000000</td>\n",
       "      <td>2499.000000</td>\n",
       "      <td>2499.000000</td>\n",
       "      <td>2499.000000</td>\n",
       "      <td>2499.000000</td>\n",
       "      <td>2499.000000</td>\n",
       "      <td>2499.000000</td>\n",
       "      <td>2499.000000</td>\n",
       "      <td>2499.000000</td>\n",
       "      <td>2499.000000</td>\n",
       "      <td>2499.000000</td>\n",
       "      <td>2499.000000</td>\n",
       "    </tr>\n",
       "    <tr>\n",
       "      <th>mean</th>\n",
       "      <td>43.335619</td>\n",
       "      <td>3.442177</td>\n",
       "      <td>147.653862</td>\n",
       "      <td>66.188876</td>\n",
       "      <td>1.957583</td>\n",
       "      <td>1.745498</td>\n",
       "      <td>414.325730</td>\n",
       "      <td>8929.199368</td>\n",
       "      <td>5467.312629</td>\n",
       "      <td>0.608120</td>\n",
       "      <td>0.769508</td>\n",
       "      <td>1.838335</td>\n",
       "    </tr>\n",
       "    <tr>\n",
       "      <th>std</th>\n",
       "      <td>10.071752</td>\n",
       "      <td>3.052542</td>\n",
       "      <td>86.463864</td>\n",
       "      <td>78.496441</td>\n",
       "      <td>0.908880</td>\n",
       "      <td>0.961662</td>\n",
       "      <td>1103.471329</td>\n",
       "      <td>9740.275193</td>\n",
       "      <td>8671.861009</td>\n",
       "      <td>0.363739</td>\n",
       "      <td>0.421232</td>\n",
       "      <td>0.832364</td>\n",
       "    </tr>\n",
       "    <tr>\n",
       "      <th>min</th>\n",
       "      <td>37.000000</td>\n",
       "      <td>1.000000</td>\n",
       "      <td>2.000000</td>\n",
       "      <td>0.000000</td>\n",
       "      <td>1.000000</td>\n",
       "      <td>1.000000</td>\n",
       "      <td>0.000000</td>\n",
       "      <td>410.500000</td>\n",
       "      <td>208.450000</td>\n",
       "      <td>0.238430</td>\n",
       "      <td>0.000000</td>\n",
       "      <td>1.000000</td>\n",
       "    </tr>\n",
       "    <tr>\n",
       "      <th>25%</th>\n",
       "      <td>39.000000</td>\n",
       "      <td>2.000000</td>\n",
       "      <td>108.000000</td>\n",
       "      <td>0.000000</td>\n",
       "      <td>1.000000</td>\n",
       "      <td>1.000000</td>\n",
       "      <td>0.000000</td>\n",
       "      <td>3678.215000</td>\n",
       "      <td>2068.080000</td>\n",
       "      <td>0.434788</td>\n",
       "      <td>1.000000</td>\n",
       "      <td>1.000000</td>\n",
       "    </tr>\n",
       "    <tr>\n",
       "      <th>50%</th>\n",
       "      <td>39.000000</td>\n",
       "      <td>3.000000</td>\n",
       "      <td>149.000000</td>\n",
       "      <td>0.000000</td>\n",
       "      <td>2.000000</td>\n",
       "      <td>1.000000</td>\n",
       "      <td>0.000000</td>\n",
       "      <td>6239.000000</td>\n",
       "      <td>3465.850000</td>\n",
       "      <td>0.480609</td>\n",
       "      <td>1.000000</td>\n",
       "      <td>2.000000</td>\n",
       "    </tr>\n",
       "    <tr>\n",
       "      <th>75%</th>\n",
       "      <td>39.000000</td>\n",
       "      <td>4.000000</td>\n",
       "      <td>195.500000</td>\n",
       "      <td>134.000000</td>\n",
       "      <td>3.000000</td>\n",
       "      <td>3.000000</td>\n",
       "      <td>0.000000</td>\n",
       "      <td>10490.985000</td>\n",
       "      <td>5698.175000</td>\n",
       "      <td>0.638315</td>\n",
       "      <td>1.000000</td>\n",
       "      <td>3.000000</td>\n",
       "    </tr>\n",
       "    <tr>\n",
       "      <th>max</th>\n",
       "      <td>66.000000</td>\n",
       "      <td>38.000000</td>\n",
       "      <td>663.000000</td>\n",
       "      <td>231.000000</td>\n",
       "      <td>4.000000</td>\n",
       "      <td>4.000000</td>\n",
       "      <td>5100.000000</td>\n",
       "      <td>121028.590000</td>\n",
       "      <td>178056.950000</td>\n",
       "      <td>7.588795</td>\n",
       "      <td>1.000000</td>\n",
       "      <td>3.000000</td>\n",
       "    </tr>\n",
       "  </tbody>\n",
       "</table>\n",
       "</div>"
      ],
      "text/plain": [
       "       Hospital Id  Days_spend_hsptl  ccs_diagnosis_code  ccs_procedure_code  \\\n",
       "count  2479.000000       2499.000000         2499.000000         2499.000000   \n",
       "mean     43.335619          3.442177          147.653862           66.188876   \n",
       "std      10.071752          3.052542           86.463864           78.496441   \n",
       "min      37.000000          1.000000            2.000000            0.000000   \n",
       "25%      39.000000          2.000000          108.000000            0.000000   \n",
       "50%      39.000000          3.000000          149.000000            0.000000   \n",
       "75%      39.000000          4.000000          195.500000          134.000000   \n",
       "max      66.000000         38.000000          663.000000          231.000000   \n",
       "\n",
       "       Code_illness  Mortality risk  Weight_baby      Tot_charg  \\\n",
       "count   2499.000000     2499.000000  2499.000000    2499.000000   \n",
       "mean       1.957583        1.745498   414.325730    8929.199368   \n",
       "std        0.908880        0.961662  1103.471329    9740.275193   \n",
       "min        1.000000        1.000000     0.000000     410.500000   \n",
       "25%        1.000000        1.000000     0.000000    3678.215000   \n",
       "50%        2.000000        1.000000     0.000000    6239.000000   \n",
       "75%        3.000000        3.000000     0.000000   10490.985000   \n",
       "max        4.000000        4.000000  5100.000000  121028.590000   \n",
       "\n",
       "            Tot_cost  ratio_of_total_costs_to_total_charges       Result  \\\n",
       "count    2499.000000                            2499.000000  2499.000000   \n",
       "mean     5467.312629                               0.608120     0.769508   \n",
       "std      8671.861009                               0.363739     0.421232   \n",
       "min       208.450000                               0.238430     0.000000   \n",
       "25%      2068.080000                               0.434788     1.000000   \n",
       "50%      3465.850000                               0.480609     1.000000   \n",
       "75%      5698.175000                               0.638315     1.000000   \n",
       "max    178056.950000                               7.588795     1.000000   \n",
       "\n",
       "       Payment_Typology  \n",
       "count       2499.000000  \n",
       "mean           1.838335  \n",
       "std            0.832364  \n",
       "min            1.000000  \n",
       "25%            1.000000  \n",
       "50%            2.000000  \n",
       "75%            3.000000  \n",
       "max            3.000000  "
      ]
     },
     "execution_count": 5,
     "metadata": {},
     "output_type": "execute_result"
    }
   ],
   "source": [
    "data.describe()"
   ]
  },
  {
   "cell_type": "code",
   "execution_count": 6,
   "id": "f24957f9",
   "metadata": {
    "colab": {
     "base_uri": "https://localhost:8080/"
    },
    "id": "f24957f9",
    "outputId": "8a429166-50c1-4962-bf0c-52c86e7e183d"
   },
   "outputs": [
    {
     "data": {
      "text/plain": [
       "Area_Service                             20\n",
       "Hospital County                          20\n",
       "Hospital Id                              20\n",
       "Age                                       0\n",
       "Gender                                    0\n",
       "Cultural_group                            0\n",
       "ethnicity                                 0\n",
       "Days_spend_hsptl                          0\n",
       "Admission_type                            0\n",
       "Home or self care,                        0\n",
       "ccs_diagnosis_code                        0\n",
       "ccs_procedure_code                        0\n",
       "apr_drg_description                       0\n",
       "Code_illness                              0\n",
       "Mortality risk                            0\n",
       "Surg_Description                          0\n",
       "Weight_baby                               0\n",
       "Abortion                                  0\n",
       "Emergency dept_yes/No                     0\n",
       "Tot_charg                                 0\n",
       "Tot_cost                                  0\n",
       "ratio_of_total_costs_to_total_charges     0\n",
       "Result                                    0\n",
       "Payment_Typology                          0\n",
       "dtype: int64"
      ]
     },
     "execution_count": 6,
     "metadata": {},
     "output_type": "execute_result"
    }
   ],
   "source": [
    "data.isnull().sum()"
   ]
  },
  {
   "cell_type": "markdown",
   "id": "73536ea0",
   "metadata": {
    "id": "73536ea0"
   },
   "source": [
    "# Droping Null Values"
   ]
  },
  {
   "cell_type": "code",
   "execution_count": 7,
   "id": "72090661",
   "metadata": {
    "id": "72090661"
   },
   "outputs": [],
   "source": [
    "data1=data.dropna(how='any')"
   ]
  },
  {
   "cell_type": "code",
   "execution_count": 8,
   "id": "e5168b12",
   "metadata": {
    "colab": {
     "base_uri": "https://localhost:8080/"
    },
    "id": "e5168b12",
    "outputId": "6bc5abf9-e304-4805-d30c-414a533b4430"
   },
   "outputs": [
    {
     "data": {
      "text/plain": [
       "Area_Service                             0\n",
       "Hospital County                          0\n",
       "Hospital Id                              0\n",
       "Age                                      0\n",
       "Gender                                   0\n",
       "Cultural_group                           0\n",
       "ethnicity                                0\n",
       "Days_spend_hsptl                         0\n",
       "Admission_type                           0\n",
       "Home or self care,                       0\n",
       "ccs_diagnosis_code                       0\n",
       "ccs_procedure_code                       0\n",
       "apr_drg_description                      0\n",
       "Code_illness                             0\n",
       "Mortality risk                           0\n",
       "Surg_Description                         0\n",
       "Weight_baby                              0\n",
       "Abortion                                 0\n",
       "Emergency dept_yes/No                    0\n",
       "Tot_charg                                0\n",
       "Tot_cost                                 0\n",
       "ratio_of_total_costs_to_total_charges    0\n",
       "Result                                   0\n",
       "Payment_Typology                         0\n",
       "dtype: int64"
      ]
     },
     "execution_count": 8,
     "metadata": {},
     "output_type": "execute_result"
    }
   ],
   "source": [
    "data1.isnull().sum()"
   ]
  },
  {
   "cell_type": "markdown",
   "id": "22880658",
   "metadata": {
    "id": "22880658"
   },
   "source": [
    "# Droping Duplicate Values"
   ]
  },
  {
   "cell_type": "code",
   "execution_count": 9,
   "id": "0265bbb4",
   "metadata": {
    "colab": {
     "base_uri": "https://localhost:8080/"
    },
    "id": "0265bbb4",
    "outputId": "8f4b3590-c4ad-41ae-b026-8a6e3932e3af"
   },
   "outputs": [
    {
     "name": "stderr",
     "output_type": "stream",
     "text": [
      "C:\\Users\\anupg\\anaconda3\\AB\\lib\\site-packages\\pandas\\util\\_decorators.py:311: SettingWithCopyWarning: \n",
      "A value is trying to be set on a copy of a slice from a DataFrame\n",
      "\n",
      "See the caveats in the documentation: https://pandas.pydata.org/pandas-docs/stable/user_guide/indexing.html#returning-a-view-versus-a-copy\n",
      "  return func(*args, **kwargs)\n"
     ]
    }
   ],
   "source": [
    "data1.drop_duplicates(keep='first',inplace=True)"
   ]
  },
  {
   "cell_type": "code",
   "execution_count": 10,
   "id": "3add7444",
   "metadata": {
    "colab": {
     "base_uri": "https://localhost:8080/"
    },
    "id": "3add7444",
    "outputId": "5820de19-1b6d-4850-9988-b04f03cca691"
   },
   "outputs": [
    {
     "data": {
      "text/plain": [
       "0"
      ]
     },
     "execution_count": 10,
     "metadata": {},
     "output_type": "execute_result"
    }
   ],
   "source": [
    "data1.duplicated().sum()"
   ]
  },
  {
   "cell_type": "code",
   "execution_count": 11,
   "id": "07dcdfc9",
   "metadata": {
    "id": "07dcdfc9"
   },
   "outputs": [],
   "source": [
    "data1=data.rename(columns={'Hospital County':'hospital_county','Hospital Id':'hospital_id','Home or self care,':'Home_or_self_care','Emergency dept_yes/No':'Emergency_dept_yes/No','Mortality risk':'Mortality_risk'})"
   ]
  },
  {
   "cell_type": "code",
   "execution_count": 12,
   "id": "c9f38b4e",
   "metadata": {
    "colab": {
     "base_uri": "https://localhost:8080/",
     "height": 679
    },
    "id": "c9f38b4e",
    "outputId": "5766e865-e606-411c-e53a-9b4c1bbb164a"
   },
   "outputs": [
    {
     "data": {
      "text/html": [
       "<div>\n",
       "<style scoped>\n",
       "    .dataframe tbody tr th:only-of-type {\n",
       "        vertical-align: middle;\n",
       "    }\n",
       "\n",
       "    .dataframe tbody tr th {\n",
       "        vertical-align: top;\n",
       "    }\n",
       "\n",
       "    .dataframe thead th {\n",
       "        text-align: right;\n",
       "    }\n",
       "</style>\n",
       "<table border=\"1\" class=\"dataframe\">\n",
       "  <thead>\n",
       "    <tr style=\"text-align: right;\">\n",
       "      <th></th>\n",
       "      <th>Area_Service</th>\n",
       "      <th>hospital_county</th>\n",
       "      <th>hospital_id</th>\n",
       "      <th>Age</th>\n",
       "      <th>Gender</th>\n",
       "      <th>Cultural_group</th>\n",
       "      <th>ethnicity</th>\n",
       "      <th>Days_spend_hsptl</th>\n",
       "      <th>Admission_type</th>\n",
       "      <th>Home_or_self_care</th>\n",
       "      <th>...</th>\n",
       "      <th>Mortality_risk</th>\n",
       "      <th>Surg_Description</th>\n",
       "      <th>Weight_baby</th>\n",
       "      <th>Abortion</th>\n",
       "      <th>Emergency_dept_yes/No</th>\n",
       "      <th>Tot_charg</th>\n",
       "      <th>Tot_cost</th>\n",
       "      <th>ratio_of_total_costs_to_total_charges</th>\n",
       "      <th>Result</th>\n",
       "      <th>Payment_Typology</th>\n",
       "    </tr>\n",
       "  </thead>\n",
       "  <tbody>\n",
       "    <tr>\n",
       "      <th>0</th>\n",
       "      <td>Western NY</td>\n",
       "      <td>Allegany</td>\n",
       "      <td>37.0</td>\n",
       "      <td>30 to 49</td>\n",
       "      <td>F</td>\n",
       "      <td>White</td>\n",
       "      <td>Not Span/Hispanic</td>\n",
       "      <td>4</td>\n",
       "      <td>Elective</td>\n",
       "      <td>Home or Self Care</td>\n",
       "      <td>...</td>\n",
       "      <td>1</td>\n",
       "      <td>Medical</td>\n",
       "      <td>0</td>\n",
       "      <td>N</td>\n",
       "      <td>Y</td>\n",
       "      <td>5511.95</td>\n",
       "      <td>5582.49</td>\n",
       "      <td>1.012798</td>\n",
       "      <td>1</td>\n",
       "      <td>1</td>\n",
       "    </tr>\n",
       "    <tr>\n",
       "      <th>1</th>\n",
       "      <td>Western NY</td>\n",
       "      <td>Allegany</td>\n",
       "      <td>37.0</td>\n",
       "      <td>70 or Older</td>\n",
       "      <td>F</td>\n",
       "      <td>White</td>\n",
       "      <td>Not Span/Hispanic</td>\n",
       "      <td>4</td>\n",
       "      <td>Urgent</td>\n",
       "      <td>Short-term Hospital</td>\n",
       "      <td>...</td>\n",
       "      <td>2</td>\n",
       "      <td>Medical</td>\n",
       "      <td>0</td>\n",
       "      <td>N</td>\n",
       "      <td>Y</td>\n",
       "      <td>4783.20</td>\n",
       "      <td>5162.82</td>\n",
       "      <td>1.079365</td>\n",
       "      <td>1</td>\n",
       "      <td>1</td>\n",
       "    </tr>\n",
       "    <tr>\n",
       "      <th>2</th>\n",
       "      <td>Western NY</td>\n",
       "      <td>Allegany</td>\n",
       "      <td>37.0</td>\n",
       "      <td>30 to 49</td>\n",
       "      <td>F</td>\n",
       "      <td>White</td>\n",
       "      <td>Not Span/Hispanic</td>\n",
       "      <td>3</td>\n",
       "      <td>Urgent</td>\n",
       "      <td>Home or Self Care</td>\n",
       "      <td>...</td>\n",
       "      <td>1</td>\n",
       "      <td>Medical</td>\n",
       "      <td>0</td>\n",
       "      <td>N</td>\n",
       "      <td>Y</td>\n",
       "      <td>3829.15</td>\n",
       "      <td>4056.52</td>\n",
       "      <td>1.059379</td>\n",
       "      <td>1</td>\n",
       "      <td>1</td>\n",
       "    </tr>\n",
       "    <tr>\n",
       "      <th>3</th>\n",
       "      <td>Western NY</td>\n",
       "      <td>Allegany</td>\n",
       "      <td>37.0</td>\n",
       "      <td>0 to 17</td>\n",
       "      <td>F</td>\n",
       "      <td>White</td>\n",
       "      <td>Not Span/Hispanic</td>\n",
       "      <td>1</td>\n",
       "      <td>Urgent</td>\n",
       "      <td>Home or Self Care</td>\n",
       "      <td>...</td>\n",
       "      <td>1</td>\n",
       "      <td>Medical</td>\n",
       "      <td>0</td>\n",
       "      <td>N</td>\n",
       "      <td>Y</td>\n",
       "      <td>1108.20</td>\n",
       "      <td>1644.75</td>\n",
       "      <td>1.484167</td>\n",
       "      <td>0</td>\n",
       "      <td>1</td>\n",
       "    </tr>\n",
       "    <tr>\n",
       "      <th>4</th>\n",
       "      <td>Western NY</td>\n",
       "      <td>Allegany</td>\n",
       "      <td>37.0</td>\n",
       "      <td>70 or Older</td>\n",
       "      <td>F</td>\n",
       "      <td>White</td>\n",
       "      <td>Not Span/Hispanic</td>\n",
       "      <td>3</td>\n",
       "      <td>Elective</td>\n",
       "      <td>Home or Self Care</td>\n",
       "      <td>...</td>\n",
       "      <td>3</td>\n",
       "      <td>Medical</td>\n",
       "      <td>0</td>\n",
       "      <td>N</td>\n",
       "      <td>Y</td>\n",
       "      <td>3418.18</td>\n",
       "      <td>3370.87</td>\n",
       "      <td>0.986161</td>\n",
       "      <td>1</td>\n",
       "      <td>1</td>\n",
       "    </tr>\n",
       "    <tr>\n",
       "      <th>...</th>\n",
       "      <td>...</td>\n",
       "      <td>...</td>\n",
       "      <td>...</td>\n",
       "      <td>...</td>\n",
       "      <td>...</td>\n",
       "      <td>...</td>\n",
       "      <td>...</td>\n",
       "      <td>...</td>\n",
       "      <td>...</td>\n",
       "      <td>...</td>\n",
       "      <td>...</td>\n",
       "      <td>...</td>\n",
       "      <td>...</td>\n",
       "      <td>...</td>\n",
       "      <td>...</td>\n",
       "      <td>...</td>\n",
       "      <td>...</td>\n",
       "      <td>...</td>\n",
       "      <td>...</td>\n",
       "      <td>...</td>\n",
       "      <td>...</td>\n",
       "    </tr>\n",
       "    <tr>\n",
       "      <th>2494</th>\n",
       "      <td>Western NY</td>\n",
       "      <td>Cattaraugus</td>\n",
       "      <td>66.0</td>\n",
       "      <td>50 to 69</td>\n",
       "      <td>M</td>\n",
       "      <td>White</td>\n",
       "      <td>Not Span/Hispanic</td>\n",
       "      <td>1</td>\n",
       "      <td>Emergency</td>\n",
       "      <td>Home or Self Care</td>\n",
       "      <td>...</td>\n",
       "      <td>1</td>\n",
       "      <td>Medical</td>\n",
       "      <td>0</td>\n",
       "      <td>N</td>\n",
       "      <td>Y</td>\n",
       "      <td>2883.48</td>\n",
       "      <td>2921.14</td>\n",
       "      <td>1.013059</td>\n",
       "      <td>1</td>\n",
       "      <td>2</td>\n",
       "    </tr>\n",
       "    <tr>\n",
       "      <th>2495</th>\n",
       "      <td>Western NY</td>\n",
       "      <td>Cattaraugus</td>\n",
       "      <td>66.0</td>\n",
       "      <td>18 to 29</td>\n",
       "      <td>M</td>\n",
       "      <td>White</td>\n",
       "      <td>Not Span/Hispanic</td>\n",
       "      <td>2</td>\n",
       "      <td>Emergency</td>\n",
       "      <td>Home or Self Care</td>\n",
       "      <td>...</td>\n",
       "      <td>1</td>\n",
       "      <td>Medical</td>\n",
       "      <td>0</td>\n",
       "      <td>N</td>\n",
       "      <td>Y</td>\n",
       "      <td>6574.38</td>\n",
       "      <td>2157.40</td>\n",
       "      <td>0.328152</td>\n",
       "      <td>1</td>\n",
       "      <td>1</td>\n",
       "    </tr>\n",
       "    <tr>\n",
       "      <th>2496</th>\n",
       "      <td>Western NY</td>\n",
       "      <td>Cattaraugus</td>\n",
       "      <td>66.0</td>\n",
       "      <td>18 to 29</td>\n",
       "      <td>F</td>\n",
       "      <td>White</td>\n",
       "      <td>Not Span/Hispanic</td>\n",
       "      <td>3</td>\n",
       "      <td>Elective</td>\n",
       "      <td>Home or Self Care</td>\n",
       "      <td>...</td>\n",
       "      <td>1</td>\n",
       "      <td>Medical</td>\n",
       "      <td>0</td>\n",
       "      <td>N</td>\n",
       "      <td>N</td>\n",
       "      <td>3199.50</td>\n",
       "      <td>1191.08</td>\n",
       "      <td>0.372269</td>\n",
       "      <td>0</td>\n",
       "      <td>1</td>\n",
       "    </tr>\n",
       "    <tr>\n",
       "      <th>2497</th>\n",
       "      <td>Western NY</td>\n",
       "      <td>Cattaraugus</td>\n",
       "      <td>66.0</td>\n",
       "      <td>50 to 69</td>\n",
       "      <td>M</td>\n",
       "      <td>White</td>\n",
       "      <td>Not Span/Hispanic</td>\n",
       "      <td>2</td>\n",
       "      <td>Emergency</td>\n",
       "      <td>Home or Self Care</td>\n",
       "      <td>...</td>\n",
       "      <td>3</td>\n",
       "      <td>Medical</td>\n",
       "      <td>0</td>\n",
       "      <td>N</td>\n",
       "      <td>Y</td>\n",
       "      <td>8667.48</td>\n",
       "      <td>5114.17</td>\n",
       "      <td>0.590041</td>\n",
       "      <td>1</td>\n",
       "      <td>1</td>\n",
       "    </tr>\n",
       "    <tr>\n",
       "      <th>2498</th>\n",
       "      <td>Western NY</td>\n",
       "      <td>Cattaraugus</td>\n",
       "      <td>66.0</td>\n",
       "      <td>0 to 17</td>\n",
       "      <td>U</td>\n",
       "      <td>White</td>\n",
       "      <td>Not Span/Hispanic</td>\n",
       "      <td>2</td>\n",
       "      <td>Newborn</td>\n",
       "      <td>Home or Self Care</td>\n",
       "      <td>...</td>\n",
       "      <td>1</td>\n",
       "      <td>Medical</td>\n",
       "      <td>3300</td>\n",
       "      <td>N</td>\n",
       "      <td>N</td>\n",
       "      <td>1140.00</td>\n",
       "      <td>786.40</td>\n",
       "      <td>0.689822</td>\n",
       "      <td>1</td>\n",
       "      <td>1</td>\n",
       "    </tr>\n",
       "  </tbody>\n",
       "</table>\n",
       "<p>2499 rows × 24 columns</p>\n",
       "</div>"
      ],
      "text/plain": [
       "     Area_Service hospital_county  hospital_id          Age Gender  \\\n",
       "0      Western NY        Allegany         37.0     30 to 49      F   \n",
       "1      Western NY        Allegany         37.0  70 or Older      F   \n",
       "2      Western NY        Allegany         37.0     30 to 49      F   \n",
       "3      Western NY        Allegany         37.0      0 to 17      F   \n",
       "4      Western NY        Allegany         37.0  70 or Older      F   \n",
       "...           ...             ...          ...          ...    ...   \n",
       "2494   Western NY     Cattaraugus         66.0     50 to 69      M   \n",
       "2495   Western NY     Cattaraugus         66.0     18 to 29      M   \n",
       "2496   Western NY     Cattaraugus         66.0     18 to 29      F   \n",
       "2497   Western NY     Cattaraugus         66.0     50 to 69      M   \n",
       "2498   Western NY     Cattaraugus         66.0      0 to 17      U   \n",
       "\n",
       "     Cultural_group          ethnicity  Days_spend_hsptl Admission_type  \\\n",
       "0             White  Not Span/Hispanic                 4       Elective   \n",
       "1             White  Not Span/Hispanic                 4         Urgent   \n",
       "2             White  Not Span/Hispanic                 3         Urgent   \n",
       "3             White  Not Span/Hispanic                 1         Urgent   \n",
       "4             White  Not Span/Hispanic                 3       Elective   \n",
       "...             ...                ...               ...            ...   \n",
       "2494          White  Not Span/Hispanic                 1      Emergency   \n",
       "2495          White  Not Span/Hispanic                 2      Emergency   \n",
       "2496          White  Not Span/Hispanic                 3       Elective   \n",
       "2497          White  Not Span/Hispanic                 2      Emergency   \n",
       "2498          White  Not Span/Hispanic                 2        Newborn   \n",
       "\n",
       "        Home_or_self_care  ...  Mortality_risk  Surg_Description Weight_baby  \\\n",
       "0       Home or Self Care  ...               1           Medical           0   \n",
       "1     Short-term Hospital  ...               2           Medical           0   \n",
       "2       Home or Self Care  ...               1           Medical           0   \n",
       "3       Home or Self Care  ...               1           Medical           0   \n",
       "4       Home or Self Care  ...               3           Medical           0   \n",
       "...                   ...  ...             ...               ...         ...   \n",
       "2494    Home or Self Care  ...               1           Medical           0   \n",
       "2495    Home or Self Care  ...               1           Medical           0   \n",
       "2496    Home or Self Care  ...               1           Medical           0   \n",
       "2497    Home or Self Care  ...               3           Medical           0   \n",
       "2498    Home or Self Care  ...               1           Medical        3300   \n",
       "\n",
       "      Abortion  Emergency_dept_yes/No Tot_charg  Tot_cost  \\\n",
       "0            N                      Y   5511.95   5582.49   \n",
       "1            N                      Y   4783.20   5162.82   \n",
       "2            N                      Y   3829.15   4056.52   \n",
       "3            N                      Y   1108.20   1644.75   \n",
       "4            N                      Y   3418.18   3370.87   \n",
       "...        ...                    ...       ...       ...   \n",
       "2494         N                      Y   2883.48   2921.14   \n",
       "2495         N                      Y   6574.38   2157.40   \n",
       "2496         N                      N   3199.50   1191.08   \n",
       "2497         N                      Y   8667.48   5114.17   \n",
       "2498         N                      N   1140.00    786.40   \n",
       "\n",
       "     ratio_of_total_costs_to_total_charges Result  Payment_Typology  \n",
       "0                                 1.012798      1                 1  \n",
       "1                                 1.079365      1                 1  \n",
       "2                                 1.059379      1                 1  \n",
       "3                                 1.484167      0                 1  \n",
       "4                                 0.986161      1                 1  \n",
       "...                                    ...    ...               ...  \n",
       "2494                              1.013059      1                 2  \n",
       "2495                              0.328152      1                 1  \n",
       "2496                              0.372269      0                 1  \n",
       "2497                              0.590041      1                 1  \n",
       "2498                              0.689822      1                 1  \n",
       "\n",
       "[2499 rows x 24 columns]"
      ]
     },
     "execution_count": 12,
     "metadata": {},
     "output_type": "execute_result"
    }
   ],
   "source": [
    "data1"
   ]
  },
  {
   "cell_type": "markdown",
   "id": "3a71a919",
   "metadata": {
    "id": "3a71a919"
   },
   "source": [
    "# EDA"
   ]
  },
  {
   "cell_type": "code",
   "execution_count": 13,
   "id": "56626aee",
   "metadata": {
    "id": "56626aee"
   },
   "outputs": [],
   "source": [
    "def MultiLabelEncoder(columnlist,dataframe):\n",
    "    for i in columnlist:\n",
    "\n",
    "        labelencoder_X = LabelEncoder()\n",
    "        dataframe[i] = labelencoder_X.fit_transform(dataframe[i])"
   ]
  },
  {
   "cell_type": "code",
   "execution_count": 125,
   "id": "ab651a9d",
   "metadata": {
    "id": "ab651a9d"
   },
   "outputs": [],
   "source": [
    "columnlist = ['Area_Service','hospital_county','Age','Gender','Days_spend_hsptl','Admission_type','Home_or_self_care','Surg_Description',\n",
    "              'Emergency_dept_yes/No','Cultural_group','ethnicity','apr_drg_description','Abortion']\n",
    "MultiLabelEncoder(columnlist,data1)"
   ]
  },
  {
   "cell_type": "code",
   "execution_count": null,
   "id": "c362df4f",
   "metadata": {
    "colab": {
     "base_uri": "https://localhost:8080/",
     "height": 488
    },
    "id": "c362df4f",
    "outputId": "d6eb2bd0-4680-41d1-bee0-83b3227bf677"
   },
   "outputs": [],
   "source": [
    "data1"
   ]
  },
  {
   "cell_type": "code",
   "execution_count": 16,
   "id": "90ce8137",
   "metadata": {
    "colab": {
     "base_uri": "https://localhost:8080/"
    },
    "id": "90ce8137",
    "outputId": "5b876573-52c9-42d2-a429-d24af0d1e944"
   },
   "outputs": [
    {
     "data": {
      "text/plain": [
       "Area_Service                              0\n",
       "hospital_county                           0\n",
       "hospital_id                              20\n",
       "Age                                       0\n",
       "Gender                                    0\n",
       "Cultural_group                            0\n",
       "ethnicity                                 0\n",
       "Days_spend_hsptl                          0\n",
       "Admission_type                            0\n",
       "Home_or_self_care                         0\n",
       "ccs_diagnosis_code                        0\n",
       "ccs_procedure_code                        0\n",
       "apr_drg_description                       0\n",
       "Code_illness                              0\n",
       "Mortality_risk                            0\n",
       "Surg_Description                          0\n",
       "Weight_baby                               0\n",
       "Abortion                                  0\n",
       "Emergency_dept_yes/No                     0\n",
       "Tot_charg                                 0\n",
       "Tot_cost                                  0\n",
       "ratio_of_total_costs_to_total_charges     0\n",
       "Result                                    0\n",
       "Payment_Typology                          0\n",
       "dtype: int64"
      ]
     },
     "execution_count": 16,
     "metadata": {},
     "output_type": "execute_result"
    }
   ],
   "source": [
    "data1.isnull().sum()"
   ]
  },
  {
   "cell_type": "code",
   "execution_count": 17,
   "id": "aa2637f1",
   "metadata": {
    "id": "aa2637f1"
   },
   "outputs": [],
   "source": [
    "df=data1.dropna(how='any')"
   ]
  },
  {
   "cell_type": "code",
   "execution_count": 18,
   "id": "e3659274",
   "metadata": {
    "colab": {
     "base_uri": "https://localhost:8080/"
    },
    "id": "e3659274",
    "outputId": "c40e207e-496c-4fe3-a950-2b171a2dcaf7"
   },
   "outputs": [
    {
     "data": {
      "text/plain": [
       "Area_Service                             0\n",
       "hospital_county                          0\n",
       "hospital_id                              0\n",
       "Age                                      0\n",
       "Gender                                   0\n",
       "Cultural_group                           0\n",
       "ethnicity                                0\n",
       "Days_spend_hsptl                         0\n",
       "Admission_type                           0\n",
       "Home_or_self_care                        0\n",
       "ccs_diagnosis_code                       0\n",
       "ccs_procedure_code                       0\n",
       "apr_drg_description                      0\n",
       "Code_illness                             0\n",
       "Mortality_risk                           0\n",
       "Surg_Description                         0\n",
       "Weight_baby                              0\n",
       "Abortion                                 0\n",
       "Emergency_dept_yes/No                    0\n",
       "Tot_charg                                0\n",
       "Tot_cost                                 0\n",
       "ratio_of_total_costs_to_total_charges    0\n",
       "Result                                   0\n",
       "Payment_Typology                         0\n",
       "dtype: int64"
      ]
     },
     "execution_count": 18,
     "metadata": {},
     "output_type": "execute_result"
    }
   ],
   "source": [
    "df.isnull().sum()"
   ]
  },
  {
   "cell_type": "code",
   "execution_count": 19,
   "id": "42381cf3",
   "metadata": {
    "colab": {
     "base_uri": "https://localhost:8080/",
     "height": 488
    },
    "id": "42381cf3",
    "outputId": "53a22646-9c08-4e52-81a5-5f67184f7558"
   },
   "outputs": [
    {
     "data": {
      "text/html": [
       "<div>\n",
       "<style scoped>\n",
       "    .dataframe tbody tr th:only-of-type {\n",
       "        vertical-align: middle;\n",
       "    }\n",
       "\n",
       "    .dataframe tbody tr th {\n",
       "        vertical-align: top;\n",
       "    }\n",
       "\n",
       "    .dataframe thead th {\n",
       "        text-align: right;\n",
       "    }\n",
       "</style>\n",
       "<table border=\"1\" class=\"dataframe\">\n",
       "  <thead>\n",
       "    <tr style=\"text-align: right;\">\n",
       "      <th></th>\n",
       "      <th>Area_Service</th>\n",
       "      <th>hospital_county</th>\n",
       "      <th>hospital_id</th>\n",
       "      <th>Age</th>\n",
       "      <th>Gender</th>\n",
       "      <th>Cultural_group</th>\n",
       "      <th>ethnicity</th>\n",
       "      <th>Days_spend_hsptl</th>\n",
       "      <th>Admission_type</th>\n",
       "      <th>Home_or_self_care</th>\n",
       "      <th>...</th>\n",
       "      <th>Mortality_risk</th>\n",
       "      <th>Surg_Description</th>\n",
       "      <th>Weight_baby</th>\n",
       "      <th>Abortion</th>\n",
       "      <th>Emergency_dept_yes/No</th>\n",
       "      <th>Tot_charg</th>\n",
       "      <th>Tot_cost</th>\n",
       "      <th>ratio_of_total_costs_to_total_charges</th>\n",
       "      <th>Result</th>\n",
       "      <th>Payment_Typology</th>\n",
       "    </tr>\n",
       "  </thead>\n",
       "  <tbody>\n",
       "    <tr>\n",
       "      <th>0</th>\n",
       "      <td>0</td>\n",
       "      <td>0</td>\n",
       "      <td>37.0</td>\n",
       "      <td>2</td>\n",
       "      <td>0</td>\n",
       "      <td>3</td>\n",
       "      <td>0</td>\n",
       "      <td>3</td>\n",
       "      <td>0</td>\n",
       "      <td>4</td>\n",
       "      <td>...</td>\n",
       "      <td>1</td>\n",
       "      <td>0</td>\n",
       "      <td>0</td>\n",
       "      <td>0</td>\n",
       "      <td>1</td>\n",
       "      <td>5511.95</td>\n",
       "      <td>5582.49</td>\n",
       "      <td>1.012798</td>\n",
       "      <td>1</td>\n",
       "      <td>1</td>\n",
       "    </tr>\n",
       "    <tr>\n",
       "      <th>1</th>\n",
       "      <td>0</td>\n",
       "      <td>0</td>\n",
       "      <td>37.0</td>\n",
       "      <td>4</td>\n",
       "      <td>0</td>\n",
       "      <td>3</td>\n",
       "      <td>0</td>\n",
       "      <td>3</td>\n",
       "      <td>4</td>\n",
       "      <td>12</td>\n",
       "      <td>...</td>\n",
       "      <td>2</td>\n",
       "      <td>0</td>\n",
       "      <td>0</td>\n",
       "      <td>0</td>\n",
       "      <td>1</td>\n",
       "      <td>4783.20</td>\n",
       "      <td>5162.82</td>\n",
       "      <td>1.079365</td>\n",
       "      <td>1</td>\n",
       "      <td>1</td>\n",
       "    </tr>\n",
       "    <tr>\n",
       "      <th>2</th>\n",
       "      <td>0</td>\n",
       "      <td>0</td>\n",
       "      <td>37.0</td>\n",
       "      <td>2</td>\n",
       "      <td>0</td>\n",
       "      <td>3</td>\n",
       "      <td>0</td>\n",
       "      <td>2</td>\n",
       "      <td>4</td>\n",
       "      <td>4</td>\n",
       "      <td>...</td>\n",
       "      <td>1</td>\n",
       "      <td>0</td>\n",
       "      <td>0</td>\n",
       "      <td>0</td>\n",
       "      <td>1</td>\n",
       "      <td>3829.15</td>\n",
       "      <td>4056.52</td>\n",
       "      <td>1.059379</td>\n",
       "      <td>1</td>\n",
       "      <td>1</td>\n",
       "    </tr>\n",
       "    <tr>\n",
       "      <th>3</th>\n",
       "      <td>0</td>\n",
       "      <td>0</td>\n",
       "      <td>37.0</td>\n",
       "      <td>0</td>\n",
       "      <td>0</td>\n",
       "      <td>3</td>\n",
       "      <td>0</td>\n",
       "      <td>0</td>\n",
       "      <td>4</td>\n",
       "      <td>4</td>\n",
       "      <td>...</td>\n",
       "      <td>1</td>\n",
       "      <td>0</td>\n",
       "      <td>0</td>\n",
       "      <td>0</td>\n",
       "      <td>1</td>\n",
       "      <td>1108.20</td>\n",
       "      <td>1644.75</td>\n",
       "      <td>1.484167</td>\n",
       "      <td>0</td>\n",
       "      <td>1</td>\n",
       "    </tr>\n",
       "    <tr>\n",
       "      <th>4</th>\n",
       "      <td>0</td>\n",
       "      <td>0</td>\n",
       "      <td>37.0</td>\n",
       "      <td>4</td>\n",
       "      <td>0</td>\n",
       "      <td>3</td>\n",
       "      <td>0</td>\n",
       "      <td>2</td>\n",
       "      <td>0</td>\n",
       "      <td>4</td>\n",
       "      <td>...</td>\n",
       "      <td>3</td>\n",
       "      <td>0</td>\n",
       "      <td>0</td>\n",
       "      <td>0</td>\n",
       "      <td>1</td>\n",
       "      <td>3418.18</td>\n",
       "      <td>3370.87</td>\n",
       "      <td>0.986161</td>\n",
       "      <td>1</td>\n",
       "      <td>1</td>\n",
       "    </tr>\n",
       "    <tr>\n",
       "      <th>...</th>\n",
       "      <td>...</td>\n",
       "      <td>...</td>\n",
       "      <td>...</td>\n",
       "      <td>...</td>\n",
       "      <td>...</td>\n",
       "      <td>...</td>\n",
       "      <td>...</td>\n",
       "      <td>...</td>\n",
       "      <td>...</td>\n",
       "      <td>...</td>\n",
       "      <td>...</td>\n",
       "      <td>...</td>\n",
       "      <td>...</td>\n",
       "      <td>...</td>\n",
       "      <td>...</td>\n",
       "      <td>...</td>\n",
       "      <td>...</td>\n",
       "      <td>...</td>\n",
       "      <td>...</td>\n",
       "      <td>...</td>\n",
       "      <td>...</td>\n",
       "    </tr>\n",
       "    <tr>\n",
       "      <th>2494</th>\n",
       "      <td>0</td>\n",
       "      <td>1</td>\n",
       "      <td>66.0</td>\n",
       "      <td>3</td>\n",
       "      <td>1</td>\n",
       "      <td>3</td>\n",
       "      <td>0</td>\n",
       "      <td>0</td>\n",
       "      <td>1</td>\n",
       "      <td>4</td>\n",
       "      <td>...</td>\n",
       "      <td>1</td>\n",
       "      <td>0</td>\n",
       "      <td>0</td>\n",
       "      <td>0</td>\n",
       "      <td>1</td>\n",
       "      <td>2883.48</td>\n",
       "      <td>2921.14</td>\n",
       "      <td>1.013059</td>\n",
       "      <td>1</td>\n",
       "      <td>2</td>\n",
       "    </tr>\n",
       "    <tr>\n",
       "      <th>2495</th>\n",
       "      <td>0</td>\n",
       "      <td>1</td>\n",
       "      <td>66.0</td>\n",
       "      <td>1</td>\n",
       "      <td>1</td>\n",
       "      <td>3</td>\n",
       "      <td>0</td>\n",
       "      <td>1</td>\n",
       "      <td>1</td>\n",
       "      <td>4</td>\n",
       "      <td>...</td>\n",
       "      <td>1</td>\n",
       "      <td>0</td>\n",
       "      <td>0</td>\n",
       "      <td>0</td>\n",
       "      <td>1</td>\n",
       "      <td>6574.38</td>\n",
       "      <td>2157.40</td>\n",
       "      <td>0.328152</td>\n",
       "      <td>1</td>\n",
       "      <td>1</td>\n",
       "    </tr>\n",
       "    <tr>\n",
       "      <th>2496</th>\n",
       "      <td>0</td>\n",
       "      <td>1</td>\n",
       "      <td>66.0</td>\n",
       "      <td>1</td>\n",
       "      <td>0</td>\n",
       "      <td>3</td>\n",
       "      <td>0</td>\n",
       "      <td>2</td>\n",
       "      <td>0</td>\n",
       "      <td>4</td>\n",
       "      <td>...</td>\n",
       "      <td>1</td>\n",
       "      <td>0</td>\n",
       "      <td>0</td>\n",
       "      <td>0</td>\n",
       "      <td>0</td>\n",
       "      <td>3199.50</td>\n",
       "      <td>1191.08</td>\n",
       "      <td>0.372269</td>\n",
       "      <td>0</td>\n",
       "      <td>1</td>\n",
       "    </tr>\n",
       "    <tr>\n",
       "      <th>2497</th>\n",
       "      <td>0</td>\n",
       "      <td>1</td>\n",
       "      <td>66.0</td>\n",
       "      <td>3</td>\n",
       "      <td>1</td>\n",
       "      <td>3</td>\n",
       "      <td>0</td>\n",
       "      <td>1</td>\n",
       "      <td>1</td>\n",
       "      <td>4</td>\n",
       "      <td>...</td>\n",
       "      <td>3</td>\n",
       "      <td>0</td>\n",
       "      <td>0</td>\n",
       "      <td>0</td>\n",
       "      <td>1</td>\n",
       "      <td>8667.48</td>\n",
       "      <td>5114.17</td>\n",
       "      <td>0.590041</td>\n",
       "      <td>1</td>\n",
       "      <td>1</td>\n",
       "    </tr>\n",
       "    <tr>\n",
       "      <th>2498</th>\n",
       "      <td>0</td>\n",
       "      <td>1</td>\n",
       "      <td>66.0</td>\n",
       "      <td>0</td>\n",
       "      <td>2</td>\n",
       "      <td>3</td>\n",
       "      <td>0</td>\n",
       "      <td>1</td>\n",
       "      <td>2</td>\n",
       "      <td>4</td>\n",
       "      <td>...</td>\n",
       "      <td>1</td>\n",
       "      <td>0</td>\n",
       "      <td>3300</td>\n",
       "      <td>0</td>\n",
       "      <td>0</td>\n",
       "      <td>1140.00</td>\n",
       "      <td>786.40</td>\n",
       "      <td>0.689822</td>\n",
       "      <td>1</td>\n",
       "      <td>1</td>\n",
       "    </tr>\n",
       "  </tbody>\n",
       "</table>\n",
       "<p>2479 rows × 24 columns</p>\n",
       "</div>"
      ],
      "text/plain": [
       "      Area_Service  hospital_county  hospital_id  Age  Gender  Cultural_group  \\\n",
       "0                0                0         37.0    2       0               3   \n",
       "1                0                0         37.0    4       0               3   \n",
       "2                0                0         37.0    2       0               3   \n",
       "3                0                0         37.0    0       0               3   \n",
       "4                0                0         37.0    4       0               3   \n",
       "...            ...              ...          ...  ...     ...             ...   \n",
       "2494             0                1         66.0    3       1               3   \n",
       "2495             0                1         66.0    1       1               3   \n",
       "2496             0                1         66.0    1       0               3   \n",
       "2497             0                1         66.0    3       1               3   \n",
       "2498             0                1         66.0    0       2               3   \n",
       "\n",
       "      ethnicity  Days_spend_hsptl  Admission_type  Home_or_self_care  ...  \\\n",
       "0             0                 3               0                  4  ...   \n",
       "1             0                 3               4                 12  ...   \n",
       "2             0                 2               4                  4  ...   \n",
       "3             0                 0               4                  4  ...   \n",
       "4             0                 2               0                  4  ...   \n",
       "...         ...               ...             ...                ...  ...   \n",
       "2494          0                 0               1                  4  ...   \n",
       "2495          0                 1               1                  4  ...   \n",
       "2496          0                 2               0                  4  ...   \n",
       "2497          0                 1               1                  4  ...   \n",
       "2498          0                 1               2                  4  ...   \n",
       "\n",
       "      Mortality_risk  Surg_Description  Weight_baby  Abortion  \\\n",
       "0                  1                 0            0         0   \n",
       "1                  2                 0            0         0   \n",
       "2                  1                 0            0         0   \n",
       "3                  1                 0            0         0   \n",
       "4                  3                 0            0         0   \n",
       "...              ...               ...          ...       ...   \n",
       "2494               1                 0            0         0   \n",
       "2495               1                 0            0         0   \n",
       "2496               1                 0            0         0   \n",
       "2497               3                 0            0         0   \n",
       "2498               1                 0         3300         0   \n",
       "\n",
       "      Emergency_dept_yes/No  Tot_charg  Tot_cost  \\\n",
       "0                         1    5511.95   5582.49   \n",
       "1                         1    4783.20   5162.82   \n",
       "2                         1    3829.15   4056.52   \n",
       "3                         1    1108.20   1644.75   \n",
       "4                         1    3418.18   3370.87   \n",
       "...                     ...        ...       ...   \n",
       "2494                      1    2883.48   2921.14   \n",
       "2495                      1    6574.38   2157.40   \n",
       "2496                      0    3199.50   1191.08   \n",
       "2497                      1    8667.48   5114.17   \n",
       "2498                      0    1140.00    786.40   \n",
       "\n",
       "      ratio_of_total_costs_to_total_charges  Result  Payment_Typology  \n",
       "0                                  1.012798       1                 1  \n",
       "1                                  1.079365       1                 1  \n",
       "2                                  1.059379       1                 1  \n",
       "3                                  1.484167       0                 1  \n",
       "4                                  0.986161       1                 1  \n",
       "...                                     ...     ...               ...  \n",
       "2494                               1.013059       1                 2  \n",
       "2495                               0.328152       1                 1  \n",
       "2496                               0.372269       0                 1  \n",
       "2497                               0.590041       1                 1  \n",
       "2498                               0.689822       1                 1  \n",
       "\n",
       "[2479 rows x 24 columns]"
      ]
     },
     "execution_count": 19,
     "metadata": {},
     "output_type": "execute_result"
    }
   ],
   "source": [
    "df"
   ]
  },
  {
   "cell_type": "code",
   "execution_count": 20,
   "id": "7a8b3dc8",
   "metadata": {
    "colab": {
     "base_uri": "https://localhost:8080/",
     "height": 297
    },
    "id": "7a8b3dc8",
    "outputId": "5cff2a78-4d93-4d6a-918d-4cd95f9baf8f"
   },
   "outputs": [
    {
     "data": {
      "text/plain": [
       "<AxesSubplot:xlabel='Result', ylabel='Age'>"
      ]
     },
     "execution_count": 20,
     "metadata": {},
     "output_type": "execute_result"
    },
    {
     "data": {
      "image/png": "[encoded data removed]",
      "text/plain": [
       "<Figure size 432x288 with 1 Axes>"
      ]
     },
     "metadata": {
      "needs_background": "light"
     },
     "output_type": "display_data"
    }
   ],
   "source": [
    "sb.barplot(x=\"Result\",y=\"Age\",data=df)"
   ]
  },
  {
   "cell_type": "code",
   "execution_count": 21,
   "id": "4741fa4b",
   "metadata": {
    "colab": {
     "base_uri": "https://localhost:8080/",
     "height": 297
    },
    "id": "4741fa4b",
    "outputId": "4cef54b4-c7a4-48eb-c427-176db48c904a"
   },
   "outputs": [
    {
     "data": {
      "text/plain": [
       "<AxesSubplot:xlabel='Result', ylabel='Gender'>"
      ]
     },
     "execution_count": 21,
     "metadata": {},
     "output_type": "execute_result"
    },
    {
     "data": {
      "image/png": "[encoded data removed]",
      "text/plain": [
       "<Figure size 432x288 with 1 Axes>"
      ]
     },
     "metadata": {
      "needs_background": "light"
     },
     "output_type": "display_data"
    }
   ],
   "source": [
    "sb.barplot(x=\"Result\",y=\"Gender\",data=df)"
   ]
  },
  {
   "cell_type": "code",
   "execution_count": 22,
   "id": "f56fafcb",
   "metadata": {
    "colab": {
     "base_uri": "https://localhost:8080/",
     "height": 297
    },
    "id": "f56fafcb",
    "outputId": "809590c3-638e-4688-818d-04afe18f5ee0"
   },
   "outputs": [
    {
     "data": {
      "text/plain": [
       "<AxesSubplot:xlabel='Result', ylabel='Cultural_group'>"
      ]
     },
     "execution_count": 22,
     "metadata": {},
     "output_type": "execute_result"
    },
    {
     "data": {
      "image/png": "[encoded data removed]",
      "text/plain": [
       "<Figure size 432x288 with 1 Axes>"
      ]
     },
     "metadata": {
      "needs_background": "light"
     },
     "output_type": "display_data"
    }
   ],
   "source": [
    "sb.barplot(x=\"Result\",y=\"Cultural_group\",data=df)"
   ]
  },
  {
   "cell_type": "code",
   "execution_count": 23,
   "id": "c87ef571",
   "metadata": {
    "colab": {
     "base_uri": "https://localhost:8080/",
     "height": 297
    },
    "id": "c87ef571",
    "outputId": "a8d5b111-3087-44e5-b079-ab87f3dc5457"
   },
   "outputs": [
    {
     "data": {
      "text/plain": [
       "<AxesSubplot:xlabel='Result', ylabel='Days_spend_hsptl'>"
      ]
     },
     "execution_count": 23,
     "metadata": {},
     "output_type": "execute_result"
    },
    {
     "data": {
      "image/png": "[encoded data removed]",
      "text/plain": [
       "<Figure size 432x288 with 1 Axes>"
      ]
     },
     "metadata": {
      "needs_background": "light"
     },
     "output_type": "display_data"
    }
   ],
   "source": [
    "sb.barplot(x=\"Result\",y=\"Days_spend_hsptl\",data=df)"
   ]
  },
  {
   "cell_type": "code",
   "execution_count": 24,
   "id": "18db6a4d",
   "metadata": {
    "colab": {
     "base_uri": "https://localhost:8080/",
     "height": 297
    },
    "id": "18db6a4d",
    "outputId": "1b485498-5a75-4d12-8cc0-25bfc4920279"
   },
   "outputs": [
    {
     "data": {
      "text/plain": [
       "<AxesSubplot:xlabel='Result', ylabel='Home_or_self_care'>"
      ]
     },
     "execution_count": 24,
     "metadata": {},
     "output_type": "execute_result"
    },
    {
     "data": {
      "image/png": "[encoded data removed]",
      "text/plain": [
       "<Figure size 432x288 with 1 Axes>"
      ]
     },
     "metadata": {
      "needs_background": "light"
     },
     "output_type": "display_data"
    }
   ],
   "source": [
    "sb.barplot(x='Result',y='Home_or_self_care',data=df)"
   ]
  },
  {
   "cell_type": "code",
   "execution_count": 25,
   "id": "1091338f",
   "metadata": {
    "colab": {
     "base_uri": "https://localhost:8080/",
     "height": 300
    },
    "id": "1091338f",
    "outputId": "91fa97ae-fda6-47d8-ddd6-2c8a62086c91",
    "scrolled": true
   },
   "outputs": [
    {
     "data": {
      "text/plain": [
       "<AxesSubplot:xlabel='Result', ylabel='ccs_diagnosis_code'>"
      ]
     },
     "execution_count": 25,
     "metadata": {},
     "output_type": "execute_result"
    },
    {
     "data": {
      "image/png": "[encoded data removed]",
      "text/plain": [
       "<Figure size 432x288 with 1 Axes>"
      ]
     },
     "metadata": {
      "needs_background": "light"
     },
     "output_type": "display_data"
    }
   ],
   "source": [
    "sb.barplot(x='Result',y='ccs_diagnosis_code',data=df)"
   ]
  },
  {
   "cell_type": "code",
   "execution_count": 26,
   "id": "dd21d3d7",
   "metadata": {
    "colab": {
     "base_uri": "https://localhost:8080/",
     "height": 297
    },
    "id": "dd21d3d7",
    "outputId": "b77abc23-69f4-47de-f364-ad13c132ad72"
   },
   "outputs": [
    {
     "data": {
      "text/plain": [
       "<AxesSubplot:xlabel='Result', ylabel='ccs_procedure_code'>"
      ]
     },
     "execution_count": 26,
     "metadata": {},
     "output_type": "execute_result"
    },
    {
     "data": {
      "image/png": "[encoded data removed]",
      "text/plain": [
       "<Figure size 432x288 with 1 Axes>"
      ]
     },
     "metadata": {
      "needs_background": "light"
     },
     "output_type": "display_data"
    }
   ],
   "source": [
    "sb.barplot(x='Result',y='ccs_procedure_code',data=df)"
   ]
  },
  {
   "cell_type": "code",
   "execution_count": 27,
   "id": "7ca7eb92",
   "metadata": {
    "colab": {
     "base_uri": "https://localhost:8080/",
     "height": 297
    },
    "id": "7ca7eb92",
    "outputId": "7769a62d-4f86-4981-e7a1-78d2b1601143"
   },
   "outputs": [
    {
     "data": {
      "text/plain": [
       "<AxesSubplot:xlabel='Result', ylabel='apr_drg_description'>"
      ]
     },
     "execution_count": 27,
     "metadata": {},
     "output_type": "execute_result"
    },
    {
     "data": {
      "image/png": "[encoded data removed]",
      "text/plain": [
       "<Figure size 432x288 with 1 Axes>"
      ]
     },
     "metadata": {
      "needs_background": "light"
     },
     "output_type": "display_data"
    }
   ],
   "source": [
    "sb.barplot(x='Result',y='apr_drg_description',data=df)"
   ]
  },
  {
   "cell_type": "code",
   "execution_count": 28,
   "id": "a258ee79",
   "metadata": {
    "colab": {
     "base_uri": "https://localhost:8080/",
     "height": 297
    },
    "id": "a258ee79",
    "outputId": "8d08ae70-b423-4fcc-e27a-d2b07223b285"
   },
   "outputs": [
    {
     "data": {
      "text/plain": [
       "<AxesSubplot:xlabel='Result', ylabel='Code_illness'>"
      ]
     },
     "execution_count": 28,
     "metadata": {},
     "output_type": "execute_result"
    },
    {
     "data": {
      "image/png": "[encoded data removed]",
      "text/plain": [
       "<Figure size 432x288 with 1 Axes>"
      ]
     },
     "metadata": {
      "needs_background": "light"
     },
     "output_type": "display_data"
    }
   ],
   "source": [
    "sb.barplot(x='Result',y='Code_illness',data=df)"
   ]
  },
  {
   "cell_type": "code",
   "execution_count": 29,
   "id": "caa0cb8a",
   "metadata": {
    "colab": {
     "base_uri": "https://localhost:8080/",
     "height": 297
    },
    "id": "caa0cb8a",
    "outputId": "6e2088db-4155-48cc-f357-a9894d1ce28a"
   },
   "outputs": [
    {
     "data": {
      "text/plain": [
       "<AxesSubplot:xlabel='Result', ylabel='Mortality_risk'>"
      ]
     },
     "execution_count": 29,
     "metadata": {},
     "output_type": "execute_result"
    },
    {
     "data": {
      "image/png": "[encoded data removed]",
      "text/plain": [
       "<Figure size 432x288 with 1 Axes>"
      ]
     },
     "metadata": {
      "needs_background": "light"
     },
     "output_type": "display_data"
    }
   ],
   "source": [
    "sb.barplot(x='Result',y='Mortality_risk',data=df)"
   ]
  },
  {
   "cell_type": "code",
   "execution_count": 30,
   "id": "23303ceb",
   "metadata": {
    "colab": {
     "base_uri": "https://localhost:8080/",
     "height": 297
    },
    "id": "23303ceb",
    "outputId": "cb871f54-d054-499b-d4d6-c7ea5f2624fe"
   },
   "outputs": [
    {
     "data": {
      "text/plain": [
       "<AxesSubplot:xlabel='Result', ylabel='Surg_Description'>"
      ]
     },
     "execution_count": 30,
     "metadata": {},
     "output_type": "execute_result"
    },
    {
     "data": {
      "image/png": "[encoded data removed]",
      "text/plain": [
       "<Figure size 432x288 with 1 Axes>"
      ]
     },
     "metadata": {
      "needs_background": "light"
     },
     "output_type": "display_data"
    }
   ],
   "source": [
    "sb.barplot(x='Result',y='Surg_Description',data=df)"
   ]
  },
  {
   "cell_type": "code",
   "execution_count": 31,
   "id": "36294f5b",
   "metadata": {
    "colab": {
     "base_uri": "https://localhost:8080/",
     "height": 297
    },
    "id": "36294f5b",
    "outputId": "fb1ccbf6-83c8-465f-d9e8-7d24e1f91e2f"
   },
   "outputs": [
    {
     "data": {
      "text/plain": [
       "<AxesSubplot:xlabel='Result', ylabel='Weight_baby'>"
      ]
     },
     "execution_count": 31,
     "metadata": {},
     "output_type": "execute_result"
    },
    {
     "data": {
      "image/png": "[encoded data removed]",
      "text/plain": [
       "<Figure size 432x288 with 1 Axes>"
      ]
     },
     "metadata": {
      "needs_background": "light"
     },
     "output_type": "display_data"
    }
   ],
   "source": [
    "sb.barplot(x='Result',y='Weight_baby',data=df)"
   ]
  },
  {
   "cell_type": "code",
   "execution_count": 32,
   "id": "a184806f",
   "metadata": {
    "colab": {
     "base_uri": "https://localhost:8080/",
     "height": 297
    },
    "id": "a184806f",
    "outputId": "b577e17e-3c63-4e36-a3f0-0c9cce7f3816"
   },
   "outputs": [
    {
     "data": {
      "text/plain": [
       "<AxesSubplot:xlabel='Result', ylabel='Abortion'>"
      ]
     },
     "execution_count": 32,
     "metadata": {},
     "output_type": "execute_result"
    },
    {
     "data": {
      "image/png": "[encoded data removed]",
      "text/plain": [
       "<Figure size 432x288 with 1 Axes>"
      ]
     },
     "metadata": {
      "needs_background": "light"
     },
     "output_type": "display_data"
    }
   ],
   "source": [
    "sb.barplot(x='Result',y='Abortion',data=df)"
   ]
  },
  {
   "cell_type": "code",
   "execution_count": 33,
   "id": "c6625d21",
   "metadata": {
    "colab": {
     "base_uri": "https://localhost:8080/",
     "height": 297
    },
    "id": "c6625d21",
    "outputId": "82cb69b1-8188-4735-c5d8-b44e8c49834b"
   },
   "outputs": [
    {
     "data": {
      "text/plain": [
       "<AxesSubplot:xlabel='Result', ylabel='Emergency_dept_yes/No'>"
      ]
     },
     "execution_count": 33,
     "metadata": {},
     "output_type": "execute_result"
    },
    {
     "data": {
      "image/png": "[encoded data removed]",
      "text/plain": [
       "<Figure size 432x288 with 1 Axes>"
      ]
     },
     "metadata": {
      "needs_background": "light"
     },
     "output_type": "display_data"
    }
   ],
   "source": [
    "sb.barplot(x='Result',y='Emergency_dept_yes/No',data=df)"
   ]
  },
  {
   "cell_type": "code",
   "execution_count": 34,
   "id": "0bede55b",
   "metadata": {
    "colab": {
     "base_uri": "https://localhost:8080/",
     "height": 300
    },
    "id": "0bede55b",
    "outputId": "5d839b90-22bd-40ef-b018-800c67090747"
   },
   "outputs": [
    {
     "data": {
      "text/plain": [
       "<AxesSubplot:xlabel='Result', ylabel='Tot_charg'>"
      ]
     },
     "execution_count": 34,
     "metadata": {},
     "output_type": "execute_result"
    },
    {
     "data": {
      "image/png": "[encoded data removed]",
      "text/plain": [
       "<Figure size 432x288 with 1 Axes>"
      ]
     },
     "metadata": {
      "needs_background": "light"
     },
     "output_type": "display_data"
    }
   ],
   "source": [
    "sb.barplot(x='Result',y='Tot_charg',data=df)"
   ]
  },
  {
   "cell_type": "code",
   "execution_count": 35,
   "id": "289e63af",
   "metadata": {
    "colab": {
     "base_uri": "https://localhost:8080/",
     "height": 297
    },
    "id": "289e63af",
    "outputId": "93876115-0817-4b56-e65b-c1cee42d0658"
   },
   "outputs": [
    {
     "data": {
      "text/plain": [
       "<AxesSubplot:xlabel='Result', ylabel='Tot_cost'>"
      ]
     },
     "execution_count": 35,
     "metadata": {},
     "output_type": "execute_result"
    },
    {
     "data": {
      "image/png": "[encoded data removed]",
      "text/plain": [
       "<Figure size 432x288 with 1 Axes>"
      ]
     },
     "metadata": {
      "needs_background": "light"
     },
     "output_type": "display_data"
    }
   ],
   "source": [
    "sb.barplot(x='Result',y='Tot_cost',data=df)"
   ]
  },
  {
   "cell_type": "code",
   "execution_count": 36,
   "id": "f40fdb6c",
   "metadata": {
    "colab": {
     "base_uri": "https://localhost:8080/",
     "height": 297
    },
    "id": "f40fdb6c",
    "outputId": "a1e4612e-0126-4659-8c02-d1a4d5f7033a",
    "scrolled": true
   },
   "outputs": [
    {
     "data": {
      "text/plain": [
       "<AxesSubplot:xlabel='Result', ylabel='ratio_of_total_costs_to_total_charges'>"
      ]
     },
     "execution_count": 36,
     "metadata": {},
     "output_type": "execute_result"
    },
    {
     "data": {
      "image/png": "[encoded data removed]",
      "text/plain": [
       "<Figure size 432x288 with 1 Axes>"
      ]
     },
     "metadata": {
      "needs_background": "light"
     },
     "output_type": "display_data"
    }
   ],
   "source": [
    "sb.barplot(x='Result',y='ratio_of_total_costs_to_total_charges',data=df)"
   ]
  },
  {
   "cell_type": "code",
   "execution_count": 37,
   "id": "51f4cc16",
   "metadata": {
    "colab": {
     "base_uri": "https://localhost:8080/",
     "height": 788
    },
    "id": "51f4cc16",
    "outputId": "c4822df3-53d2-464e-8c7e-c347a46adc29"
   },
   "outputs": [
    {
     "data": {
      "text/plain": [
       "<AxesSubplot:>"
      ]
     },
     "execution_count": 37,
     "metadata": {},
     "output_type": "execute_result"
    },
    {
     "data": {
      "image/png": "[encoded data removed]",
      "text/plain": [
       "<Figure size 1080x720 with 2 Axes>"
      ]
     },
     "metadata": {
      "needs_background": "light"
     },
     "output_type": "display_data"
    }
   ],
   "source": [
    "plt.figure(figsize=(15,10))\n",
    "sb.heatmap(df.corr(),annot=True,fmt='.2')"
   ]
  },
  {
   "cell_type": "code",
   "execution_count": 38,
   "id": "43963381",
   "metadata": {
    "colab": {
     "base_uri": "https://localhost:8080/",
     "height": 844
    },
    "id": "43963381",
    "outputId": "d3770850-e4ff-4f3d-9082-f4b50e98d8be"
   },
   "outputs": [
    {
     "name": "stderr",
     "output_type": "stream",
     "text": [
      "C:\\Users\\anupg\\anaconda3\\AB\\lib\\site-packages\\sklearn\\feature_selection\\_univariate_selection.py:114: UserWarning: Features [ 0 17] are constant.\n",
      "  warnings.warn(\"Features %s are constant.\" % constant_features_idx,\n",
      "C:\\Users\\anupg\\anaconda3\\AB\\lib\\site-packages\\sklearn\\feature_selection\\_univariate_selection.py:116: RuntimeWarning: invalid value encountered in true_divide\n",
      "  f = msb / msw\n"
     ]
    },
    {
     "data": {
      "text/html": [
       "<div>\n",
       "<style scoped>\n",
       "    .dataframe tbody tr th:only-of-type {\n",
       "        vertical-align: middle;\n",
       "    }\n",
       "\n",
       "    .dataframe tbody tr th {\n",
       "        vertical-align: top;\n",
       "    }\n",
       "\n",
       "    .dataframe thead th {\n",
       "        text-align: right;\n",
       "    }\n",
       "</style>\n",
       "<table border=\"1\" class=\"dataframe\">\n",
       "  <thead>\n",
       "    <tr style=\"text-align: right;\">\n",
       "      <th></th>\n",
       "      <th>Attribute</th>\n",
       "      <th>Score</th>\n",
       "    </tr>\n",
       "  </thead>\n",
       "  <tbody>\n",
       "    <tr>\n",
       "      <th>8</th>\n",
       "      <td>Admission_type</td>\n",
       "      <td>3.841988</td>\n",
       "    </tr>\n",
       "    <tr>\n",
       "      <th>19</th>\n",
       "      <td>Tot_charg</td>\n",
       "      <td>3.475205</td>\n",
       "    </tr>\n",
       "    <tr>\n",
       "      <th>7</th>\n",
       "      <td>Days_spend_hsptl</td>\n",
       "      <td>2.212503</td>\n",
       "    </tr>\n",
       "    <tr>\n",
       "      <th>15</th>\n",
       "      <td>Surg_Description</td>\n",
       "      <td>2.063324</td>\n",
       "    </tr>\n",
       "    <tr>\n",
       "      <th>11</th>\n",
       "      <td>ccs_procedure_code</td>\n",
       "      <td>2.039475</td>\n",
       "    </tr>\n",
       "    <tr>\n",
       "      <th>20</th>\n",
       "      <td>Tot_cost</td>\n",
       "      <td>1.664677</td>\n",
       "    </tr>\n",
       "    <tr>\n",
       "      <th>22</th>\n",
       "      <td>Payment_Typology</td>\n",
       "      <td>0.875343</td>\n",
       "    </tr>\n",
       "    <tr>\n",
       "      <th>16</th>\n",
       "      <td>Weight_baby</td>\n",
       "      <td>0.734026</td>\n",
       "    </tr>\n",
       "    <tr>\n",
       "      <th>9</th>\n",
       "      <td>Home_or_self_care</td>\n",
       "      <td>0.603813</td>\n",
       "    </tr>\n",
       "    <tr>\n",
       "      <th>21</th>\n",
       "      <td>ratio_of_total_costs_to_total_charges</td>\n",
       "      <td>0.332422</td>\n",
       "    </tr>\n",
       "    <tr>\n",
       "      <th>12</th>\n",
       "      <td>apr_drg_description</td>\n",
       "      <td>0.313099</td>\n",
       "    </tr>\n",
       "    <tr>\n",
       "      <th>6</th>\n",
       "      <td>ethnicity</td>\n",
       "      <td>0.301911</td>\n",
       "    </tr>\n",
       "    <tr>\n",
       "      <th>14</th>\n",
       "      <td>Mortality_risk</td>\n",
       "      <td>0.249941</td>\n",
       "    </tr>\n",
       "    <tr>\n",
       "      <th>10</th>\n",
       "      <td>ccs_diagnosis_code</td>\n",
       "      <td>0.106086</td>\n",
       "    </tr>\n",
       "    <tr>\n",
       "      <th>18</th>\n",
       "      <td>Emergency_dept_yes/No</td>\n",
       "      <td>0.044677</td>\n",
       "    </tr>\n",
       "    <tr>\n",
       "      <th>13</th>\n",
       "      <td>Code_illness</td>\n",
       "      <td>0.019380</td>\n",
       "    </tr>\n",
       "    <tr>\n",
       "      <th>2</th>\n",
       "      <td>hospital_id</td>\n",
       "      <td>0.011784</td>\n",
       "    </tr>\n",
       "    <tr>\n",
       "      <th>3</th>\n",
       "      <td>Age</td>\n",
       "      <td>0.007078</td>\n",
       "    </tr>\n",
       "    <tr>\n",
       "      <th>1</th>\n",
       "      <td>hospital_county</td>\n",
       "      <td>0.006634</td>\n",
       "    </tr>\n",
       "    <tr>\n",
       "      <th>5</th>\n",
       "      <td>Cultural_group</td>\n",
       "      <td>0.004608</td>\n",
       "    </tr>\n",
       "    <tr>\n",
       "      <th>4</th>\n",
       "      <td>Gender</td>\n",
       "      <td>0.001371</td>\n",
       "    </tr>\n",
       "    <tr>\n",
       "      <th>0</th>\n",
       "      <td>Area_Service</td>\n",
       "      <td>NaN</td>\n",
       "    </tr>\n",
       "    <tr>\n",
       "      <th>17</th>\n",
       "      <td>Abortion</td>\n",
       "      <td>NaN</td>\n",
       "    </tr>\n",
       "  </tbody>\n",
       "</table>\n",
       "</div>"
      ],
      "text/plain": [
       "                                Attribute     Score\n",
       "8                          Admission_type  3.841988\n",
       "19                              Tot_charg  3.475205\n",
       "7                        Days_spend_hsptl  2.212503\n",
       "15                       Surg_Description  2.063324\n",
       "11                     ccs_procedure_code  2.039475\n",
       "20                               Tot_cost  1.664677\n",
       "22                       Payment_Typology  0.875343\n",
       "16                            Weight_baby  0.734026\n",
       "9                       Home_or_self_care  0.603813\n",
       "21  ratio_of_total_costs_to_total_charges  0.332422\n",
       "12                    apr_drg_description  0.313099\n",
       "6                               ethnicity  0.301911\n",
       "14                         Mortality_risk  0.249941\n",
       "10                     ccs_diagnosis_code  0.106086\n",
       "18                  Emergency_dept_yes/No  0.044677\n",
       "13                           Code_illness  0.019380\n",
       "2                             hospital_id  0.011784\n",
       "3                                     Age  0.007078\n",
       "1                         hospital_county  0.006634\n",
       "5                          Cultural_group  0.004608\n",
       "4                                  Gender  0.001371\n",
       "0                            Area_Service       NaN\n",
       "17                               Abortion       NaN"
      ]
     },
     "execution_count": 38,
     "metadata": {},
     "output_type": "execute_result"
    }
   ],
   "source": [
    "classifier = SelectKBest(score_func=f_classif,k=5)\n",
    "fits = classifier.fit(df.drop('Result',axis=1),df['Result'])\n",
    "x=pd.DataFrame(fits.scores_)\n",
    "columns = pd.DataFrame(df.drop('Result',axis=1).columns)\n",
    "fscores = pd.concat([columns,x],axis=1)\n",
    "fscores.columns = ['Attribute','Score']\n",
    "fscores.sort_values(by='Score',ascending=False)"
   ]
  },
  {
   "cell_type": "markdown",
   "id": "FDQDLa9DdjBi",
   "metadata": {
    "id": "FDQDLa9DdjBi"
   },
   "source": [
    "Considered Variables with f-score higher than 0.5. I.e., Admission_type, Tot_charg, Days_spend_hsptl,Surg_Description,ccs_procedure_code,Tot_cost,Payment_Typology,Weight_baby,Home_or_self_care."
   ]
  },
  {
   "cell_type": "code",
   "execution_count": 39,
   "id": "9cdd34da",
   "metadata": {
    "id": "9cdd34da"
   },
   "outputs": [],
   "source": [
    "Feature_cols = {'Admission_type','Tot_charg', 'Days_spend_hsptl','Surg_Description','ccs_procedure_code','Tot_cost','Payment_Typology','Weight_baby','Home_or_self_care'}"
   ]
  },
  {
   "cell_type": "code",
   "execution_count": 40,
   "id": "lZnx6wCNe5no",
   "metadata": {
    "id": "lZnx6wCNe5no"
   },
   "outputs": [],
   "source": [
    "X = df[Feature_cols]"
   ]
  },
  {
   "cell_type": "code",
   "execution_count": 41,
   "id": "_ylbNuUlgq3R",
   "metadata": {
    "id": "_ylbNuUlgq3R"
   },
   "outputs": [
    {
     "data": {
      "text/html": [
       "<div>\n",
       "<style scoped>\n",
       "    .dataframe tbody tr th:only-of-type {\n",
       "        vertical-align: middle;\n",
       "    }\n",
       "\n",
       "    .dataframe tbody tr th {\n",
       "        vertical-align: top;\n",
       "    }\n",
       "\n",
       "    .dataframe thead th {\n",
       "        text-align: right;\n",
       "    }\n",
       "</style>\n",
       "<table border=\"1\" class=\"dataframe\">\n",
       "  <thead>\n",
       "    <tr style=\"text-align: right;\">\n",
       "      <th></th>\n",
       "      <th>Tot_cost</th>\n",
       "      <th>Home_or_self_care</th>\n",
       "      <th>Admission_type</th>\n",
       "      <th>Payment_Typology</th>\n",
       "      <th>Surg_Description</th>\n",
       "      <th>Weight_baby</th>\n",
       "      <th>Tot_charg</th>\n",
       "      <th>ccs_procedure_code</th>\n",
       "      <th>Days_spend_hsptl</th>\n",
       "    </tr>\n",
       "  </thead>\n",
       "  <tbody>\n",
       "    <tr>\n",
       "      <th>0</th>\n",
       "      <td>5582.49</td>\n",
       "      <td>4</td>\n",
       "      <td>0</td>\n",
       "      <td>1</td>\n",
       "      <td>0</td>\n",
       "      <td>0</td>\n",
       "      <td>5511.95</td>\n",
       "      <td>0</td>\n",
       "      <td>3</td>\n",
       "    </tr>\n",
       "    <tr>\n",
       "      <th>1</th>\n",
       "      <td>5162.82</td>\n",
       "      <td>12</td>\n",
       "      <td>4</td>\n",
       "      <td>1</td>\n",
       "      <td>0</td>\n",
       "      <td>0</td>\n",
       "      <td>4783.20</td>\n",
       "      <td>0</td>\n",
       "      <td>3</td>\n",
       "    </tr>\n",
       "    <tr>\n",
       "      <th>2</th>\n",
       "      <td>4056.52</td>\n",
       "      <td>4</td>\n",
       "      <td>4</td>\n",
       "      <td>1</td>\n",
       "      <td>0</td>\n",
       "      <td>0</td>\n",
       "      <td>3829.15</td>\n",
       "      <td>0</td>\n",
       "      <td>2</td>\n",
       "    </tr>\n",
       "    <tr>\n",
       "      <th>3</th>\n",
       "      <td>1644.75</td>\n",
       "      <td>4</td>\n",
       "      <td>4</td>\n",
       "      <td>1</td>\n",
       "      <td>0</td>\n",
       "      <td>0</td>\n",
       "      <td>1108.20</td>\n",
       "      <td>0</td>\n",
       "      <td>0</td>\n",
       "    </tr>\n",
       "    <tr>\n",
       "      <th>4</th>\n",
       "      <td>3370.87</td>\n",
       "      <td>4</td>\n",
       "      <td>0</td>\n",
       "      <td>1</td>\n",
       "      <td>0</td>\n",
       "      <td>0</td>\n",
       "      <td>3418.18</td>\n",
       "      <td>0</td>\n",
       "      <td>2</td>\n",
       "    </tr>\n",
       "    <tr>\n",
       "      <th>...</th>\n",
       "      <td>...</td>\n",
       "      <td>...</td>\n",
       "      <td>...</td>\n",
       "      <td>...</td>\n",
       "      <td>...</td>\n",
       "      <td>...</td>\n",
       "      <td>...</td>\n",
       "      <td>...</td>\n",
       "      <td>...</td>\n",
       "    </tr>\n",
       "    <tr>\n",
       "      <th>2494</th>\n",
       "      <td>2921.14</td>\n",
       "      <td>4</td>\n",
       "      <td>1</td>\n",
       "      <td>2</td>\n",
       "      <td>0</td>\n",
       "      <td>0</td>\n",
       "      <td>2883.48</td>\n",
       "      <td>0</td>\n",
       "      <td>0</td>\n",
       "    </tr>\n",
       "    <tr>\n",
       "      <th>2495</th>\n",
       "      <td>2157.40</td>\n",
       "      <td>4</td>\n",
       "      <td>1</td>\n",
       "      <td>1</td>\n",
       "      <td>0</td>\n",
       "      <td>0</td>\n",
       "      <td>6574.38</td>\n",
       "      <td>0</td>\n",
       "      <td>1</td>\n",
       "    </tr>\n",
       "    <tr>\n",
       "      <th>2496</th>\n",
       "      <td>1191.08</td>\n",
       "      <td>4</td>\n",
       "      <td>0</td>\n",
       "      <td>1</td>\n",
       "      <td>0</td>\n",
       "      <td>0</td>\n",
       "      <td>3199.50</td>\n",
       "      <td>137</td>\n",
       "      <td>2</td>\n",
       "    </tr>\n",
       "    <tr>\n",
       "      <th>2497</th>\n",
       "      <td>5114.17</td>\n",
       "      <td>4</td>\n",
       "      <td>1</td>\n",
       "      <td>1</td>\n",
       "      <td>0</td>\n",
       "      <td>0</td>\n",
       "      <td>8667.48</td>\n",
       "      <td>0</td>\n",
       "      <td>1</td>\n",
       "    </tr>\n",
       "    <tr>\n",
       "      <th>2498</th>\n",
       "      <td>786.40</td>\n",
       "      <td>4</td>\n",
       "      <td>2</td>\n",
       "      <td>1</td>\n",
       "      <td>0</td>\n",
       "      <td>3300</td>\n",
       "      <td>1140.00</td>\n",
       "      <td>0</td>\n",
       "      <td>1</td>\n",
       "    </tr>\n",
       "  </tbody>\n",
       "</table>\n",
       "<p>2479 rows × 9 columns</p>\n",
       "</div>"
      ],
      "text/plain": [
       "      Tot_cost  Home_or_self_care  Admission_type  Payment_Typology  \\\n",
       "0      5582.49                  4               0                 1   \n",
       "1      5162.82                 12               4                 1   \n",
       "2      4056.52                  4               4                 1   \n",
       "3      1644.75                  4               4                 1   \n",
       "4      3370.87                  4               0                 1   \n",
       "...        ...                ...             ...               ...   \n",
       "2494   2921.14                  4               1                 2   \n",
       "2495   2157.40                  4               1                 1   \n",
       "2496   1191.08                  4               0                 1   \n",
       "2497   5114.17                  4               1                 1   \n",
       "2498    786.40                  4               2                 1   \n",
       "\n",
       "      Surg_Description  Weight_baby  Tot_charg  ccs_procedure_code  \\\n",
       "0                    0            0    5511.95                   0   \n",
       "1                    0            0    4783.20                   0   \n",
       "2                    0            0    3829.15                   0   \n",
       "3                    0            0    1108.20                   0   \n",
       "4                    0            0    3418.18                   0   \n",
       "...                ...          ...        ...                 ...   \n",
       "2494                 0            0    2883.48                   0   \n",
       "2495                 0            0    6574.38                   0   \n",
       "2496                 0            0    3199.50                 137   \n",
       "2497                 0            0    8667.48                   0   \n",
       "2498                 0         3300    1140.00                   0   \n",
       "\n",
       "      Days_spend_hsptl  \n",
       "0                    3  \n",
       "1                    3  \n",
       "2                    2  \n",
       "3                    0  \n",
       "4                    2  \n",
       "...                ...  \n",
       "2494                 0  \n",
       "2495                 1  \n",
       "2496                 2  \n",
       "2497                 1  \n",
       "2498                 1  \n",
       "\n",
       "[2479 rows x 9 columns]"
      ]
     },
     "execution_count": 41,
     "metadata": {},
     "output_type": "execute_result"
    }
   ],
   "source": [
    "X"
   ]
  },
  {
   "cell_type": "code",
   "execution_count": 42,
   "id": "MWftUr31cmAQ",
   "metadata": {
    "id": "MWftUr31cmAQ"
   },
   "outputs": [],
   "source": [
    "y = df[['Result']]"
   ]
  },
  {
   "cell_type": "code",
   "execution_count": 43,
   "id": "tvWKfrUcgmgW",
   "metadata": {
    "id": "tvWKfrUcgmgW"
   },
   "outputs": [
    {
     "data": {
      "text/html": [
       "<div>\n",
       "<style scoped>\n",
       "    .dataframe tbody tr th:only-of-type {\n",
       "        vertical-align: middle;\n",
       "    }\n",
       "\n",
       "    .dataframe tbody tr th {\n",
       "        vertical-align: top;\n",
       "    }\n",
       "\n",
       "    .dataframe thead th {\n",
       "        text-align: right;\n",
       "    }\n",
       "</style>\n",
       "<table border=\"1\" class=\"dataframe\">\n",
       "  <thead>\n",
       "    <tr style=\"text-align: right;\">\n",
       "      <th></th>\n",
       "      <th>Result</th>\n",
       "    </tr>\n",
       "  </thead>\n",
       "  <tbody>\n",
       "    <tr>\n",
       "      <th>0</th>\n",
       "      <td>1</td>\n",
       "    </tr>\n",
       "    <tr>\n",
       "      <th>1</th>\n",
       "      <td>1</td>\n",
       "    </tr>\n",
       "    <tr>\n",
       "      <th>2</th>\n",
       "      <td>1</td>\n",
       "    </tr>\n",
       "    <tr>\n",
       "      <th>3</th>\n",
       "      <td>0</td>\n",
       "    </tr>\n",
       "    <tr>\n",
       "      <th>4</th>\n",
       "      <td>1</td>\n",
       "    </tr>\n",
       "    <tr>\n",
       "      <th>...</th>\n",
       "      <td>...</td>\n",
       "    </tr>\n",
       "    <tr>\n",
       "      <th>2494</th>\n",
       "      <td>1</td>\n",
       "    </tr>\n",
       "    <tr>\n",
       "      <th>2495</th>\n",
       "      <td>1</td>\n",
       "    </tr>\n",
       "    <tr>\n",
       "      <th>2496</th>\n",
       "      <td>0</td>\n",
       "    </tr>\n",
       "    <tr>\n",
       "      <th>2497</th>\n",
       "      <td>1</td>\n",
       "    </tr>\n",
       "    <tr>\n",
       "      <th>2498</th>\n",
       "      <td>1</td>\n",
       "    </tr>\n",
       "  </tbody>\n",
       "</table>\n",
       "<p>2479 rows × 1 columns</p>\n",
       "</div>"
      ],
      "text/plain": [
       "      Result\n",
       "0          1\n",
       "1          1\n",
       "2          1\n",
       "3          0\n",
       "4          1\n",
       "...      ...\n",
       "2494       1\n",
       "2495       1\n",
       "2496       0\n",
       "2497       1\n",
       "2498       1\n",
       "\n",
       "[2479 rows x 1 columns]"
      ]
     },
     "execution_count": 43,
     "metadata": {},
     "output_type": "execute_result"
    }
   ],
   "source": [
    "y"
   ]
  },
  {
   "cell_type": "markdown",
   "id": "030905e7",
   "metadata": {},
   "source": [
    "## Train-testsplit"
   ]
  },
  {
   "cell_type": "code",
   "execution_count": 44,
   "id": "cgB1y138e_Hg",
   "metadata": {
    "id": "cgB1y138e_Hg"
   },
   "outputs": [],
   "source": [
    "X_train,X_test,y_train,y_test=train_test_split(X,y,test_size=0.20,random_state=12)"
   ]
  },
  {
   "cell_type": "markdown",
   "id": "f024b2e1",
   "metadata": {},
   "source": [
    "## Using Decision Tree Model building,Training and testing"
   ]
  },
  {
   "cell_type": "code",
   "execution_count": 45,
   "id": "73cefc1f",
   "metadata": {
    "id": "73cefc1f"
   },
   "outputs": [],
   "source": [
    "data = pd.read_excel('Health_insurance_data.xlsx')"
   ]
  },
  {
   "cell_type": "code",
   "execution_count": 46,
   "id": "b7ac56ce",
   "metadata": {},
   "outputs": [
    {
     "data": {
      "text/plain": [
       "DecisionTreeClassifier(max_depth=10)"
      ]
     },
     "execution_count": 46,
     "metadata": {},
     "output_type": "execute_result"
    }
   ],
   "source": [
    "from sklearn.tree import DecisionTreeClassifier\n",
    "dt_model=DecisionTreeClassifier(criterion='gini',max_depth=10)\n",
    "dt_model.fit(X_train,y_train)"
   ]
  },
  {
   "cell_type": "code",
   "execution_count": 47,
   "id": "7a9a4da3",
   "metadata": {},
   "outputs": [],
   "source": [
    "y_train_predict=dt_model.predict(X_train)"
   ]
  },
  {
   "cell_type": "code",
   "execution_count": 48,
   "id": "8d654642",
   "metadata": {},
   "outputs": [],
   "source": [
    "y_test_predict=dt_model.predict(X_test)"
   ]
  },
  {
   "cell_type": "markdown",
   "id": "f80a7e74",
   "metadata": {},
   "source": [
    "## Model Evaluation"
   ]
  },
  {
   "cell_type": "code",
   "execution_count": 50,
   "id": "f5944787",
   "metadata": {},
   "outputs": [],
   "source": [
    "from sklearn.metrics import accuracy_score,confusion_matrix,precision_score"
   ]
  },
  {
   "cell_type": "markdown",
   "id": "406b2290",
   "metadata": {},
   "source": [
    "### For train data"
   ]
  },
  {
   "cell_type": "code",
   "execution_count": 51,
   "id": "d6bc92e4",
   "metadata": {},
   "outputs": [
    {
     "data": {
      "text/plain": [
       "0.8633383761976803"
      ]
     },
     "execution_count": 51,
     "metadata": {},
     "output_type": "execute_result"
    }
   ],
   "source": [
    "accuracy_score(y_train,y_train_predict)"
   ]
  },
  {
   "cell_type": "code",
   "execution_count": 52,
   "id": "f9ff5e0b",
   "metadata": {},
   "outputs": [
    {
     "data": {
      "text/plain": [
       "array([[ 219,  247],\n",
       "       [  24, 1493]], dtype=int64)"
      ]
     },
     "execution_count": 52,
     "metadata": {},
     "output_type": "execute_result"
    }
   ],
   "source": [
    "confusion_matrix(y_train,y_train_predict)"
   ]
  },
  {
   "cell_type": "code",
   "execution_count": 53,
   "id": "407fb4a7",
   "metadata": {},
   "outputs": [
    {
     "data": {
      "text/plain": [
       "0.8580459770114942"
      ]
     },
     "execution_count": 53,
     "metadata": {},
     "output_type": "execute_result"
    }
   ],
   "source": [
    "precision_score(y_train,y_train_predict)"
   ]
  },
  {
   "cell_type": "markdown",
   "id": "093406fa",
   "metadata": {},
   "source": [
    "### For test data"
   ]
  },
  {
   "cell_type": "code",
   "execution_count": 54,
   "id": "28891ebc",
   "metadata": {},
   "outputs": [
    {
     "data": {
      "text/plain": [
       "0.6995967741935484"
      ]
     },
     "execution_count": 54,
     "metadata": {},
     "output_type": "execute_result"
    }
   ],
   "source": [
    "accuracy_score(y_test,y_test_predict)"
   ]
  },
  {
   "cell_type": "code",
   "execution_count": 55,
   "id": "65316a7e",
   "metadata": {},
   "outputs": [
    {
     "data": {
      "text/plain": [
       "array([[  7, 102],\n",
       "       [ 47, 340]], dtype=int64)"
      ]
     },
     "execution_count": 55,
     "metadata": {},
     "output_type": "execute_result"
    }
   ],
   "source": [
    "confusion_matrix(y_test,y_test_predict)"
   ]
  },
  {
   "cell_type": "code",
   "execution_count": 56,
   "id": "ba11b813",
   "metadata": {},
   "outputs": [
    {
     "data": {
      "text/plain": [
       "0.7692307692307693"
      ]
     },
     "execution_count": 56,
     "metadata": {},
     "output_type": "execute_result"
    }
   ],
   "source": [
    "precision_score(y_test,y_test_predict)"
   ]
  },
  {
   "cell_type": "markdown",
   "id": "ab84f668",
   "metadata": {},
   "source": [
    "## Using Random Forest Model building,Training and testing"
   ]
  },
  {
   "cell_type": "code",
   "execution_count": 57,
   "id": "02e889fc",
   "metadata": {},
   "outputs": [
    {
     "data": {
      "text/plain": [
       "RandomForestClassifier(max_depth=20)"
      ]
     },
     "execution_count": 57,
     "metadata": {},
     "output_type": "execute_result"
    }
   ],
   "source": [
    "import warnings\n",
    "warnings.filterwarnings('ignore')\n",
    "from sklearn.ensemble import RandomForestClassifier\n",
    "rf_model=RandomForestClassifier(n_estimators=100,max_depth=20)\n",
    "rf_model.fit(X_train,y_train)"
   ]
  },
  {
   "cell_type": "code",
   "execution_count": 58,
   "id": "5f7b04ea",
   "metadata": {},
   "outputs": [],
   "source": [
    "y_train_predict=rf_model.predict(X_train)"
   ]
  },
  {
   "cell_type": "code",
   "execution_count": 59,
   "id": "d56a2746",
   "metadata": {},
   "outputs": [],
   "source": [
    "y_test_predict=rf_model.predict(X_test)"
   ]
  },
  {
   "cell_type": "markdown",
   "id": "ee86abc3",
   "metadata": {},
   "source": [
    "### Model Evaluation"
   ]
  },
  {
   "cell_type": "markdown",
   "id": "9bff4d20",
   "metadata": {},
   "source": [
    "### For Train data"
   ]
  },
  {
   "cell_type": "code",
   "execution_count": 60,
   "id": "d33c1b9a",
   "metadata": {},
   "outputs": [
    {
     "data": {
      "text/plain": [
       "0.9843671205244579"
      ]
     },
     "execution_count": 60,
     "metadata": {},
     "output_type": "execute_result"
    }
   ],
   "source": [
    "accuracy_score(y_train,y_train_predict)"
   ]
  },
  {
   "cell_type": "code",
   "execution_count": 61,
   "id": "d8d901f3",
   "metadata": {},
   "outputs": [
    {
     "data": {
      "text/plain": [
       "array([[  5, 104],\n",
       "       [ 21, 366]], dtype=int64)"
      ]
     },
     "execution_count": 61,
     "metadata": {},
     "output_type": "execute_result"
    }
   ],
   "source": [
    "confusion_matrix(y_test,y_test_predict)"
   ]
  },
  {
   "cell_type": "code",
   "execution_count": 62,
   "id": "21e1dae2",
   "metadata": {},
   "outputs": [
    {
     "data": {
      "text/plain": [
       "0.9799741602067183"
      ]
     },
     "execution_count": 62,
     "metadata": {},
     "output_type": "execute_result"
    }
   ],
   "source": [
    "precision_score(y_train,y_train_predict)"
   ]
  },
  {
   "cell_type": "markdown",
   "id": "d8b304a1",
   "metadata": {},
   "source": [
    "### For test data"
   ]
  },
  {
   "cell_type": "code",
   "execution_count": 63,
   "id": "9106e9e4",
   "metadata": {},
   "outputs": [
    {
     "data": {
      "text/plain": [
       "0.7479838709677419"
      ]
     },
     "execution_count": 63,
     "metadata": {},
     "output_type": "execute_result"
    }
   ],
   "source": [
    "accuracy_score(y_test,y_test_predict)"
   ]
  },
  {
   "cell_type": "code",
   "execution_count": 64,
   "id": "0bd2dc35",
   "metadata": {},
   "outputs": [
    {
     "data": {
      "text/plain": [
       "array([[  5, 104],\n",
       "       [ 21, 366]], dtype=int64)"
      ]
     },
     "execution_count": 64,
     "metadata": {},
     "output_type": "execute_result"
    }
   ],
   "source": [
    "confusion_matrix(y_test,y_test_predict)"
   ]
  },
  {
   "cell_type": "code",
   "execution_count": 65,
   "id": "94ce905c",
   "metadata": {},
   "outputs": [
    {
     "data": {
      "text/plain": [
       "0.7787234042553192"
      ]
     },
     "execution_count": 65,
     "metadata": {},
     "output_type": "execute_result"
    }
   ],
   "source": [
    "precision_score(y_test,y_test_predict)"
   ]
  },
  {
   "cell_type": "markdown",
   "id": "b7f50964",
   "metadata": {},
   "source": [
    "## Using Gradient boosting model building,training and testing"
   ]
  },
  {
   "cell_type": "code",
   "execution_count": 66,
   "id": "05a04d47",
   "metadata": {},
   "outputs": [
    {
     "data": {
      "text/plain": [
       "GradientBoostingClassifier()"
      ]
     },
     "execution_count": 66,
     "metadata": {},
     "output_type": "execute_result"
    }
   ],
   "source": [
    "from sklearn.ensemble import GradientBoostingClassifier\n",
    "gb_model = GradientBoostingClassifier( n_estimators=100)\n",
    "gb_model.fit(X_train,y_train)"
   ]
  },
  {
   "cell_type": "code",
   "execution_count": 67,
   "id": "7da4c20d",
   "metadata": {},
   "outputs": [],
   "source": [
    "y_train_predict=gb_model.predict(X_train)"
   ]
  },
  {
   "cell_type": "code",
   "execution_count": 68,
   "id": "87b32603",
   "metadata": {},
   "outputs": [],
   "source": [
    "y_test_predict=gb_model.predict(X_test)"
   ]
  },
  {
   "cell_type": "markdown",
   "id": "1b215786",
   "metadata": {},
   "source": [
    "### Model Evaluation"
   ]
  },
  {
   "cell_type": "markdown",
   "id": "4f177dbe",
   "metadata": {},
   "source": [
    "### For train data"
   ]
  },
  {
   "cell_type": "code",
   "execution_count": 69,
   "id": "e0686aae",
   "metadata": {},
   "outputs": [
    {
     "data": {
      "text/plain": [
       "0.7851739788199698"
      ]
     },
     "execution_count": 69,
     "metadata": {},
     "output_type": "execute_result"
    }
   ],
   "source": [
    "accuracy_score(y_train,y_train_predict)"
   ]
  },
  {
   "cell_type": "code",
   "execution_count": 70,
   "id": "26d25e18",
   "metadata": {},
   "outputs": [
    {
     "data": {
      "text/plain": [
       "0.7810407006697578"
      ]
     },
     "execution_count": 70,
     "metadata": {},
     "output_type": "execute_result"
    }
   ],
   "source": [
    "precision_score(y_train,y_train_predict)"
   ]
  },
  {
   "cell_type": "code",
   "execution_count": 71,
   "id": "3da00b83",
   "metadata": {},
   "outputs": [
    {
     "data": {
      "text/plain": [
       "array([[  41,  425],\n",
       "       [   1, 1516]], dtype=int64)"
      ]
     },
     "execution_count": 71,
     "metadata": {},
     "output_type": "execute_result"
    }
   ],
   "source": [
    "confusion_matrix(y_train,y_train_predict)"
   ]
  },
  {
   "cell_type": "markdown",
   "id": "ec6ed0ae",
   "metadata": {},
   "source": [
    "### For test data"
   ]
  },
  {
   "cell_type": "code",
   "execution_count": 72,
   "id": "a2717d1b",
   "metadata": {},
   "outputs": [
    {
     "data": {
      "text/plain": [
       "0.7701612903225806"
      ]
     },
     "execution_count": 72,
     "metadata": {},
     "output_type": "execute_result"
    }
   ],
   "source": [
    "accuracy_score(y_test,y_test_predict)"
   ]
  },
  {
   "cell_type": "code",
   "execution_count": 73,
   "id": "bb45e3f2",
   "metadata": {},
   "outputs": [
    {
     "data": {
      "text/plain": [
       "0.7780040733197556"
      ]
     },
     "execution_count": 73,
     "metadata": {},
     "output_type": "execute_result"
    }
   ],
   "source": [
    "precision_score(y_test,y_test_predict)"
   ]
  },
  {
   "cell_type": "code",
   "execution_count": 74,
   "id": "449ed558",
   "metadata": {},
   "outputs": [
    {
     "data": {
      "text/plain": [
       "array([[  0, 109],\n",
       "       [  5, 382]], dtype=int64)"
      ]
     },
     "execution_count": 74,
     "metadata": {},
     "output_type": "execute_result"
    }
   ],
   "source": [
    "confusion_matrix(y_test,y_test_predict)"
   ]
  },
  {
   "cell_type": "markdown",
   "id": "c8c72d1c",
   "metadata": {},
   "source": [
    "## Using Ada boosting model building,training and testing"
   ]
  },
  {
   "cell_type": "code",
   "execution_count": 75,
   "id": "132a7fe3",
   "metadata": {},
   "outputs": [
    {
     "data": {
      "text/plain": [
       "AdaBoostClassifier()"
      ]
     },
     "execution_count": 75,
     "metadata": {},
     "output_type": "execute_result"
    }
   ],
   "source": [
    "from sklearn.ensemble import AdaBoostClassifier\n",
    "adb_classifier = AdaBoostClassifier()\n",
    "adb_classifier.fit(X_train,y_train)"
   ]
  },
  {
   "cell_type": "code",
   "execution_count": 76,
   "id": "52b0341d",
   "metadata": {},
   "outputs": [],
   "source": [
    "y_train_predict=adb_classifier.predict(X_train)"
   ]
  },
  {
   "cell_type": "code",
   "execution_count": 77,
   "id": "29b872f6",
   "metadata": {},
   "outputs": [],
   "source": [
    "y_test_predict=adb_classifier.predict(X_test)"
   ]
  },
  {
   "cell_type": "markdown",
   "id": "cc4501f2",
   "metadata": {},
   "source": [
    "### Model Evalation"
   ]
  },
  {
   "cell_type": "markdown",
   "id": "bf24bb55",
   "metadata": {},
   "source": [
    "### For train data"
   ]
  },
  {
   "cell_type": "code",
   "execution_count": 78,
   "id": "34811e26",
   "metadata": {},
   "outputs": [
    {
     "data": {
      "text/plain": [
       "0.7710539586485123"
      ]
     },
     "execution_count": 78,
     "metadata": {},
     "output_type": "execute_result"
    }
   ],
   "source": [
    "accuracy_score(y_train,y_train_predict)"
   ]
  },
  {
   "cell_type": "code",
   "execution_count": 79,
   "id": "3f868205",
   "metadata": {},
   "outputs": [
    {
     "data": {
      "text/plain": [
       "0.7699339766378872"
      ]
     },
     "execution_count": 79,
     "metadata": {},
     "output_type": "execute_result"
    }
   ],
   "source": [
    "precision_score(y_train,y_train_predict)"
   ]
  },
  {
   "cell_type": "code",
   "execution_count": 80,
   "id": "3b0f46a4",
   "metadata": {},
   "outputs": [
    {
     "data": {
      "text/plain": [
       "array([[  13,  453],\n",
       "       [   1, 1516]], dtype=int64)"
      ]
     },
     "execution_count": 80,
     "metadata": {},
     "output_type": "execute_result"
    }
   ],
   "source": [
    "confusion_matrix(y_train,y_train_predict)"
   ]
  },
  {
   "cell_type": "markdown",
   "id": "f0e02939",
   "metadata": {},
   "source": [
    "### For test data\n"
   ]
  },
  {
   "cell_type": "code",
   "execution_count": 81,
   "id": "792e971f",
   "metadata": {},
   "outputs": [
    {
     "data": {
      "text/plain": [
       "0.7741935483870968"
      ]
     },
     "execution_count": 81,
     "metadata": {},
     "output_type": "execute_result"
    }
   ],
   "source": [
    "accuracy_score(y_test,y_test_predict)"
   ]
  },
  {
   "cell_type": "code",
   "execution_count": 82,
   "id": "75b2ce6e",
   "metadata": {},
   "outputs": [
    {
     "data": {
      "text/plain": [
       "0.7789046653144016"
      ]
     },
     "execution_count": 82,
     "metadata": {},
     "output_type": "execute_result"
    }
   ],
   "source": [
    "precision_score(y_test,y_test_predict)"
   ]
  },
  {
   "cell_type": "code",
   "execution_count": 83,
   "id": "c19e5cf3",
   "metadata": {},
   "outputs": [
    {
     "data": {
      "text/plain": [
       "array([[  0, 109],\n",
       "       [  3, 384]], dtype=int64)"
      ]
     },
     "execution_count": 83,
     "metadata": {},
     "output_type": "execute_result"
    }
   ],
   "source": [
    "confusion_matrix(y_test,y_test_predict)"
   ]
  },
  {
   "cell_type": "markdown",
   "id": "ea1f5ce6",
   "metadata": {},
   "source": [
    "## Using Extreme Gradient Boosting alogorithm model building,training and testing"
   ]
  },
  {
   "cell_type": "code",
   "execution_count": 84,
   "id": "32d67797",
   "metadata": {},
   "outputs": [
    {
     "name": "stdout",
     "output_type": "stream",
     "text": [
      "Collecting xgboost\n",
      "  Downloading xgboost-1.5.2-py3-none-win_amd64.whl (106.6 MB)\n",
      "Requirement already satisfied: numpy in c:\\users\\anupg\\anaconda3\\ab\\lib\\site-packages (from xgboost) (1.20.3)\n",
      "Requirement already satisfied: scipy in c:\\users\\anupg\\anaconda3\\ab\\lib\\site-packages (from xgboost) (1.7.1)\n",
      "Installing collected packages: xgboost\n",
      "Successfully installed xgboost-1.5.2\n"
     ]
    }
   ],
   "source": [
    "!pip install xgboost\n",
    "from  xgboost import XGBClassifier "
   ]
  },
  {
   "cell_type": "code",
   "execution_count": 85,
   "id": "b492cd78",
   "metadata": {},
   "outputs": [],
   "source": [
    "xgb_model = XGBClassifier()"
   ]
  },
  {
   "cell_type": "code",
   "execution_count": 86,
   "id": "a9248c56",
   "metadata": {},
   "outputs": [
    {
     "name": "stdout",
     "output_type": "stream",
     "text": [
      "[07:54:54] WARNING: C:/Users/Administrator/workspace/xgboost-win64_release_1.5.1/src/learner.cc:1115: Starting in XGBoost 1.3.0, the default evaluation metric used with the objective 'binary:logistic' was changed from 'error' to 'logloss'. Explicitly set eval_metric if you'd like to restore the old behavior.\n"
     ]
    },
    {
     "data": {
      "text/plain": [
       "XGBClassifier(base_score=0.5, booster='gbtree', colsample_bylevel=1,\n",
       "              colsample_bynode=1, colsample_bytree=1, enable_categorical=False,\n",
       "              gamma=0, gpu_id=-1, importance_type=None,\n",
       "              interaction_constraints='', learning_rate=0.300000012,\n",
       "              max_delta_step=0, max_depth=6, min_child_weight=1, missing=nan,\n",
       "              monotone_constraints='()', n_estimators=100, n_jobs=4,\n",
       "              num_parallel_tree=1, predictor='auto', random_state=0,\n",
       "              reg_alpha=0, reg_lambda=1, scale_pos_weight=1, subsample=1,\n",
       "              tree_method='exact', validate_parameters=1, verbosity=None)"
      ]
     },
     "execution_count": 86,
     "metadata": {},
     "output_type": "execute_result"
    }
   ],
   "source": [
    "xgb_model.fit(X_train,y_train)"
   ]
  },
  {
   "cell_type": "code",
   "execution_count": 87,
   "id": "99d88136",
   "metadata": {},
   "outputs": [],
   "source": [
    "y_train_predict=xgb_model.predict(X_train)"
   ]
  },
  {
   "cell_type": "code",
   "execution_count": 88,
   "id": "30807e91",
   "metadata": {},
   "outputs": [],
   "source": [
    "y_test_predict=xgb_model.predict(X_test)"
   ]
  },
  {
   "cell_type": "markdown",
   "id": "6398c553",
   "metadata": {},
   "source": [
    "### Model Evaluation"
   ]
  },
  {
   "cell_type": "markdown",
   "id": "c989d764",
   "metadata": {},
   "source": [
    "### For train data"
   ]
  },
  {
   "cell_type": "code",
   "execution_count": 89,
   "id": "90bd4cbe",
   "metadata": {},
   "outputs": [
    {
     "data": {
      "text/plain": [
       "0.9409984871406959"
      ]
     },
     "execution_count": 89,
     "metadata": {},
     "output_type": "execute_result"
    }
   ],
   "source": [
    "accuracy_score(y_train,y_train_predict)"
   ]
  },
  {
   "cell_type": "code",
   "execution_count": 90,
   "id": "778f99e5",
   "metadata": {},
   "outputs": [
    {
     "data": {
      "text/plain": [
       "0.9305043050430505"
      ]
     },
     "execution_count": 90,
     "metadata": {},
     "output_type": "execute_result"
    }
   ],
   "source": [
    "precision_score(y_train,y_train_predict)"
   ]
  },
  {
   "cell_type": "code",
   "execution_count": 91,
   "id": "d3c4297c",
   "metadata": {},
   "outputs": [
    {
     "data": {
      "text/plain": [
       "array([[ 353,  113],\n",
       "       [   4, 1513]], dtype=int64)"
      ]
     },
     "execution_count": 91,
     "metadata": {},
     "output_type": "execute_result"
    }
   ],
   "source": [
    "confusion_matrix(y_train,y_train_predict)"
   ]
  },
  {
   "cell_type": "markdown",
   "id": "1a203216",
   "metadata": {},
   "source": [
    "### For test data"
   ]
  },
  {
   "cell_type": "code",
   "execution_count": 92,
   "id": "1d5fcf7c",
   "metadata": {},
   "outputs": [
    {
     "data": {
      "text/plain": [
       "0.7157258064516129"
      ]
     },
     "execution_count": 92,
     "metadata": {},
     "output_type": "execute_result"
    }
   ],
   "source": [
    "accuracy_score(y_test,y_test_predict)"
   ]
  },
  {
   "cell_type": "code",
   "execution_count": 93,
   "id": "048bbe03",
   "metadata": {},
   "outputs": [
    {
     "data": {
      "text/plain": [
       "0.777027027027027"
      ]
     },
     "execution_count": 93,
     "metadata": {},
     "output_type": "execute_result"
    }
   ],
   "source": [
    "precision_score(y_test,y_test_predict)"
   ]
  },
  {
   "cell_type": "code",
   "execution_count": 94,
   "id": "3ef31cf7",
   "metadata": {},
   "outputs": [
    {
     "data": {
      "text/plain": [
       "array([[ 10,  99],\n",
       "       [ 42, 345]], dtype=int64)"
      ]
     },
     "execution_count": 94,
     "metadata": {},
     "output_type": "execute_result"
    }
   ],
   "source": [
    "confusion_matrix(y_test,y_test_predict)"
   ]
  },
  {
   "cell_type": "markdown",
   "id": "faff7a34",
   "metadata": {},
   "source": [
    "## Using Light Gradient Boosting alogorithm model building,training and testing"
   ]
  },
  {
   "cell_type": "code",
   "execution_count": 95,
   "id": "2a2222a7",
   "metadata": {},
   "outputs": [
    {
     "name": "stdout",
     "output_type": "stream",
     "text": [
      "Collecting lightgbm\n",
      "  Downloading lightgbm-3.3.2-py3-none-win_amd64.whl (1.0 MB)\n",
      "Requirement already satisfied: scikit-learn!=0.22.0 in c:\\users\\anupg\\anaconda3\\ab\\lib\\site-packages (from lightgbm) (0.24.2)\n",
      "Requirement already satisfied: numpy in c:\\users\\anupg\\anaconda3\\ab\\lib\\site-packages (from lightgbm) (1.20.3)\n",
      "Requirement already satisfied: scipy in c:\\users\\anupg\\anaconda3\\ab\\lib\\site-packages (from lightgbm) (1.7.1)\n",
      "Requirement already satisfied: wheel in c:\\users\\anupg\\anaconda3\\ab\\lib\\site-packages (from lightgbm) (0.37.0)\n",
      "Requirement already satisfied: joblib>=0.11 in c:\\users\\anupg\\anaconda3\\ab\\lib\\site-packages (from scikit-learn!=0.22.0->lightgbm) (1.1.0)\n",
      "Requirement already satisfied: threadpoolctl>=2.0.0 in c:\\users\\anupg\\anaconda3\\ab\\lib\\site-packages (from scikit-learn!=0.22.0->lightgbm) (2.2.0)\n",
      "Installing collected packages: lightgbm\n",
      "Successfully installed lightgbm-3.3.2\n"
     ]
    }
   ],
   "source": [
    "!pip install lightgbm\n",
    "from  lightgbm import LGBMClassifier "
   ]
  },
  {
   "cell_type": "code",
   "execution_count": 96,
   "id": "e354f311",
   "metadata": {},
   "outputs": [],
   "source": [
    "lgb_model=LGBMClassifier()\n"
   ]
  },
  {
   "cell_type": "code",
   "execution_count": 97,
   "id": "1b22490c",
   "metadata": {},
   "outputs": [
    {
     "data": {
      "text/plain": [
       "LGBMClassifier()"
      ]
     },
     "execution_count": 97,
     "metadata": {},
     "output_type": "execute_result"
    }
   ],
   "source": [
    "lgb_model.fit(X_train,y_train)"
   ]
  },
  {
   "cell_type": "code",
   "execution_count": 98,
   "id": "1570d639",
   "metadata": {},
   "outputs": [],
   "source": [
    "y_train_predict=lgb_model.predict(X_train)"
   ]
  },
  {
   "cell_type": "code",
   "execution_count": 99,
   "id": "9e6d9a70",
   "metadata": {},
   "outputs": [],
   "source": [
    "y_test_predict=lgb_model.predict(X_test)"
   ]
  },
  {
   "cell_type": "markdown",
   "id": "0d6ad630",
   "metadata": {},
   "source": [
    "### Model Evaluation"
   ]
  },
  {
   "cell_type": "markdown",
   "id": "d45b24ad",
   "metadata": {},
   "source": [
    "### For train data\n"
   ]
  },
  {
   "cell_type": "code",
   "execution_count": 100,
   "id": "2e9a3e7a",
   "metadata": {},
   "outputs": [
    {
     "data": {
      "text/plain": [
       "0.8673726676752396"
      ]
     },
     "execution_count": 100,
     "metadata": {},
     "output_type": "execute_result"
    }
   ],
   "source": [
    "accuracy_score(y_train,y_train_predict)"
   ]
  },
  {
   "cell_type": "code",
   "execution_count": 101,
   "id": "6f26da09",
   "metadata": {},
   "outputs": [
    {
     "data": {
      "text/plain": [
       "0.8574686431014823"
      ]
     },
     "execution_count": 101,
     "metadata": {},
     "output_type": "execute_result"
    }
   ],
   "source": [
    "precision_score(y_train,y_train_predict)"
   ]
  },
  {
   "cell_type": "code",
   "execution_count": 102,
   "id": "41f78e05",
   "metadata": {},
   "outputs": [
    {
     "data": {
      "text/plain": [
       "array([[ 216,  250],\n",
       "       [  13, 1504]], dtype=int64)"
      ]
     },
     "execution_count": 102,
     "metadata": {},
     "output_type": "execute_result"
    }
   ],
   "source": [
    "confusion_matrix(y_train,y_train_predict)"
   ]
  },
  {
   "cell_type": "markdown",
   "id": "c0eab29c",
   "metadata": {},
   "source": [
    "### For test data"
   ]
  },
  {
   "cell_type": "code",
   "execution_count": 103,
   "id": "5a41a216",
   "metadata": {},
   "outputs": [
    {
     "data": {
      "text/plain": [
       "0.75"
      ]
     },
     "execution_count": 103,
     "metadata": {},
     "output_type": "execute_result"
    }
   ],
   "source": [
    "accuracy_score(y_test,y_test_predict)"
   ]
  },
  {
   "cell_type": "code",
   "execution_count": 104,
   "id": "19fffec2",
   "metadata": {},
   "outputs": [
    {
     "data": {
      "text/plain": [
       "0.7803837953091685"
      ]
     },
     "execution_count": 104,
     "metadata": {},
     "output_type": "execute_result"
    }
   ],
   "source": [
    "precision_score(y_test,y_test_predict)"
   ]
  },
  {
   "cell_type": "code",
   "execution_count": 105,
   "id": "aab6a9fd",
   "metadata": {},
   "outputs": [
    {
     "data": {
      "text/plain": [
       "array([[  6, 103],\n",
       "       [ 21, 366]], dtype=int64)"
      ]
     },
     "execution_count": 105,
     "metadata": {},
     "output_type": "execute_result"
    }
   ],
   "source": [
    "confusion_matrix(y_test,y_test_predict)"
   ]
  },
  {
   "cell_type": "markdown",
   "id": "4011b0d3",
   "metadata": {},
   "source": [
    "## Using KNN  model building,training and testing without NORMALIZATION"
   ]
  },
  {
   "cell_type": "code",
   "execution_count": 106,
   "id": "a95a2c64",
   "metadata": {},
   "outputs": [],
   "source": [
    "from sklearn.neighbors import KNeighborsClassifier"
   ]
  },
  {
   "cell_type": "markdown",
   "id": "74de904f",
   "metadata": {},
   "source": [
    "### Generating a Model with K = 3"
   ]
  },
  {
   "cell_type": "code",
   "execution_count": 107,
   "id": "f8467a17",
   "metadata": {},
   "outputs": [
    {
     "name": "stdout",
     "output_type": "stream",
     "text": [
      "Train Data Accuracy score:  0.8144\n",
      "Test Data Accuracy score:  0.7218\n"
     ]
    }
   ],
   "source": [
    "knn_model = KNeighborsClassifier(n_neighbors=3)\n",
    "knn_model.fit(X_train,y_train)\n",
    "y_train_pred = knn_model.predict(X_train)\n",
    "y_test_pred = knn_model.predict(X_test)\n",
    "print(\"Train Data Accuracy score: \", round(accuracy_score(y_train,y_train_pred),4))\n",
    "print(\"Test Data Accuracy score: \", round(accuracy_score(y_test,y_test_pred),4))\n"
   ]
  },
  {
   "cell_type": "markdown",
   "id": "d8c925ca",
   "metadata": {},
   "source": [
    "### Generating a Model with K = 5"
   ]
  },
  {
   "cell_type": "code",
   "execution_count": 108,
   "id": "78281304",
   "metadata": {},
   "outputs": [
    {
     "name": "stdout",
     "output_type": "stream",
     "text": [
      "Train Data Accuracy score:  0.7922\n",
      "Test Data Accuracy score:  0.7399\n"
     ]
    }
   ],
   "source": [
    "knn_model = KNeighborsClassifier(n_neighbors=5)\n",
    "knn_model.fit(X_train,y_train)\n",
    "y_train_pred = knn_model.predict(X_train)\n",
    "y_test_pred = knn_model.predict(X_test)\n",
    "print(\"Train Data Accuracy score: \", round(accuracy_score(y_train,y_train_pred),4))\n",
    "print(\"Test Data Accuracy score: \", round(accuracy_score(y_test,y_test_pred),4))\n"
   ]
  },
  {
   "cell_type": "markdown",
   "id": "96da5332",
   "metadata": {},
   "source": [
    "### Generating a Model with K = 7"
   ]
  },
  {
   "cell_type": "code",
   "execution_count": 109,
   "id": "bbfe582b",
   "metadata": {},
   "outputs": [
    {
     "name": "stdout",
     "output_type": "stream",
     "text": [
      "Train Data Accuracy score:  0.7761\n",
      "Test Data Accuracy score:  0.7379\n"
     ]
    }
   ],
   "source": [
    "knn_model = KNeighborsClassifier(n_neighbors=7)\n",
    "knn_model.fit(X_train,y_train)\n",
    "y_train_pred = knn_model.predict(X_train)\n",
    "y_test_pred = knn_model.predict(X_test)\n",
    "print(\"Train Data Accuracy score: \", round(accuracy_score(y_train,y_train_pred),4))\n",
    "print(\"Test Data Accuracy score: \", round(accuracy_score(y_test,y_test_pred),4))\n"
   ]
  },
  {
   "cell_type": "markdown",
   "id": "f84863ce",
   "metadata": {},
   "source": [
    "## Using KNN  model building,training and testing with NORMALIZATION"
   ]
  },
  {
   "cell_type": "code",
   "execution_count": 110,
   "id": "e1fcbe4d",
   "metadata": {},
   "outputs": [],
   "source": [
    "from sklearn.preprocessing import StandardScaler\n",
    "scaler   = StandardScaler()\n",
    "scaled_X = scaler.fit_transform(X)"
   ]
  },
  {
   "cell_type": "code",
   "execution_count": 111,
   "id": "40928d95",
   "metadata": {},
   "outputs": [],
   "source": [
    "X_train,X_test,y_train,y_test = train_test_split(scaled_X,y,test_size=0.20,random_state= 12,stratify = y)\n"
   ]
  },
  {
   "cell_type": "markdown",
   "id": "d74b68fa",
   "metadata": {},
   "source": [
    "### Generating a Model with K = 3"
   ]
  },
  {
   "cell_type": "code",
   "execution_count": 112,
   "id": "fb4d0065",
   "metadata": {},
   "outputs": [
    {
     "name": "stdout",
     "output_type": "stream",
     "text": [
      "Train Data Accuracy score:  0.8195\n",
      "Test Data Accuracy score:  0.7016\n"
     ]
    }
   ],
   "source": [
    "knn_model = KNeighborsClassifier(n_neighbors=3)\n",
    "knn_model.fit(X_train,y_train)\n",
    "y_train_pred = knn_model.predict(X_train)\n",
    "y_test_pred = knn_model.predict(X_test)\n",
    "print(\"Train Data Accuracy score: \", round(accuracy_score(y_train,y_train_pred),4))\n",
    "print(\"Test Data Accuracy score: \", round(accuracy_score(y_test,y_test_pred),4))\n"
   ]
  },
  {
   "cell_type": "markdown",
   "id": "79f8fdbe",
   "metadata": {},
   "source": [
    "### Generating a Model with K = 5"
   ]
  },
  {
   "cell_type": "code",
   "execution_count": 113,
   "id": "ec50b3b9",
   "metadata": {},
   "outputs": [
    {
     "name": "stdout",
     "output_type": "stream",
     "text": [
      "Train Data Accuracy score:  0.7847\n",
      "Test Data Accuracy score:  0.7238\n"
     ]
    }
   ],
   "source": [
    "knn_model = KNeighborsClassifier(n_neighbors=5)\n",
    "knn_model.fit(X_train,y_train)\n",
    "y_train_pred = knn_model.predict(X_train)\n",
    "y_test_pred = knn_model.predict(X_test)\n",
    "print(\"Train Data Accuracy score: \", round(accuracy_score(y_train,y_train_pred),4))\n",
    "print(\"Test Data Accuracy score: \", round(accuracy_score(y_test,y_test_pred),4))\n"
   ]
  },
  {
   "cell_type": "markdown",
   "id": "8f4485db",
   "metadata": {},
   "source": [
    "### Generating a Model with K = 7\n"
   ]
  },
  {
   "cell_type": "code",
   "execution_count": 114,
   "id": "e3882aa5",
   "metadata": {},
   "outputs": [
    {
     "name": "stdout",
     "output_type": "stream",
     "text": [
      "Train Data Accuracy score:  0.7771\n",
      "Test Data Accuracy score:  0.75\n"
     ]
    }
   ],
   "source": [
    "knn_model = KNeighborsClassifier(n_neighbors=7)\n",
    "knn_model.fit(X_train,y_train)\n",
    "y_train_pred = knn_model.predict(X_train)\n",
    "y_test_pred = knn_model.predict(X_test)\n",
    "print(\"Train Data Accuracy score: \", round(accuracy_score(y_train,y_train_pred),4))\n",
    "print(\"Test Data Accuracy score: \", round(accuracy_score(y_test,y_test_pred),4))"
   ]
  },
  {
   "cell_type": "markdown",
   "id": "724eeb62",
   "metadata": {},
   "source": [
    "## Using SVM  model building,training and testing \n"
   ]
  },
  {
   "cell_type": "markdown",
   "id": "097419ff",
   "metadata": {},
   "source": [
    "## Kernel=Linear"
   ]
  },
  {
   "cell_type": "code",
   "execution_count": 115,
   "id": "1a65da5c",
   "metadata": {},
   "outputs": [
    {
     "name": "stdout",
     "output_type": "stream",
     "text": [
      "Train Data Overall Accuracy :  0.768\n",
      "Train data Precision        :  0.768\n",
      "Test Data Overall Accuracy :  0.7681\n",
      "Test data Precision        :  0.7681\n"
     ]
    }
   ],
   "source": [
    "from sklearn.svm import SVC\n",
    "svc_classifier = SVC(kernel='linear')\n",
    "svc_classifier.fit(X_train,y_train)\n",
    "y_train_pred = svc_classifier.predict(X_train)\n",
    "y_test_pred = svc_classifier.predict(X_test)\n",
    "\n",
    "print(\"Train Data Overall Accuracy : \",round(accuracy_score(y_train,y_train_pred),4))\n",
    "print(\"Train data Precision        : \",round(precision_score(y_train,y_train_pred),4))\n",
    "print(\"Test Data Overall Accuracy : \",round(accuracy_score(y_test,y_test_pred),4))\n",
    "print(\"Test data Precision        : \",round(precision_score(y_test,y_test_pred),4))"
   ]
  },
  {
   "cell_type": "markdown",
   "id": "0490e028",
   "metadata": {},
   "source": [
    "## Kernel=Polynomial"
   ]
  },
  {
   "cell_type": "code",
   "execution_count": 116,
   "id": "f253d74c",
   "metadata": {},
   "outputs": [
    {
     "name": "stdout",
     "output_type": "stream",
     "text": [
      "Train Data Overall Accuracy :  0.768\n",
      "Train data Precision        :  0.768\n",
      "Test Data Overall Accuracy :  0.7681\n",
      "Test data Precision        :  0.7681\n"
     ]
    }
   ],
   "source": [
    "svc_classifier = SVC(kernel='poly',degree = 1)\n",
    "svc_classifier.fit(X_train,y_train)\n",
    "y_train_pred = svc_classifier.predict(X_train)\n",
    "y_test_pred = svc_classifier.predict(X_test)\n",
    "\n",
    "print(\"Train Data Overall Accuracy : \",round(accuracy_score(y_train,y_train_pred),4))\n",
    "print(\"Train data Precision        : \",round(precision_score(y_train,y_train_pred),4))\n",
    "print(\"Test Data Overall Accuracy : \",round(accuracy_score(y_test,y_test_pred),4))\n",
    "print(\"Test data Precision        : \",round(precision_score(y_test,y_test_pred),4))\n"
   ]
  },
  {
   "cell_type": "markdown",
   "id": "cb077fc5",
   "metadata": {},
   "source": [
    "## Kernel=Rbf"
   ]
  },
  {
   "cell_type": "code",
   "execution_count": 117,
   "id": "be617ee7",
   "metadata": {},
   "outputs": [
    {
     "name": "stdout",
     "output_type": "stream",
     "text": [
      "Train Data Overall Accuracy :  0.768\n",
      "Train data Precision        :  0.768\n",
      "Test Data Overall Accuracy :  0.7681\n",
      "Test data Precision        :  0.7681\n"
     ]
    }
   ],
   "source": [
    "svc_classifier = SVC(kernel='rbf', C=1,gamma = 0.02)\n",
    "svc_classifier.fit(X_train,y_train)\n",
    "y_train_pred = svc_classifier.predict(X_train)\n",
    "y_test_pred = svc_classifier.predict(X_test)\n",
    "\n",
    "print(\"Train Data Overall Accuracy : \",round(accuracy_score(y_train,y_train_pred),4))\n",
    "print(\"Train data Precision        : \",round(precision_score(y_train,y_train_pred),4))\n",
    "print(\"Test Data Overall Accuracy : \",round(accuracy_score(y_test,y_test_pred),4))\n",
    "print(\"Test data Precision        : \",round(precision_score(y_test,y_test_pred),4))"
   ]
  },
  {
   "cell_type": "code",
   "execution_count": 118,
   "id": "31cb9617",
   "metadata": {},
   "outputs": [],
   "source": [
    "import pickle\n",
    "pickle_out = open(\"data.pickle\", \"wb\")\n",
    "pickle.dump(data, pickle_out)\n",
    "pickle_out.close()"
   ]
  },
  {
   "cell_type": "code",
   "execution_count": 119,
   "id": "469a82e5",
   "metadata": {},
   "outputs": [],
   "source": [
    "import numpy as np"
   ]
  },
  {
   "cell_type": "code",
   "execution_count": 121,
   "id": "40be2f19",
   "metadata": {},
   "outputs": [
    {
     "ename": "SyntaxError",
     "evalue": "invalid syntax (Temp/ipykernel_3192/3408613159.py, line 12)",
     "output_type": "error",
     "traceback": [
      "\u001b[1;36m  File \u001b[1;32m\"C:\\Users\\anupg\\AppData\\Local\\Temp/ipykernel_3192/3408613159.py\"\u001b[1;36m, line \u001b[1;32m12\u001b[0m\n\u001b[1;33m    'param_C', 'param_kernel', 'params',...\u001b[0m\n\u001b[1;37m    ^\u001b[0m\n\u001b[1;31mSyntaxError\u001b[0m\u001b[1;31m:\u001b[0m invalid syntax\n"
     ]
    }
   ],
   "source": [
    "from sklearn import svm, datasets\n",
    "from sklearn.model_selection import GridSearchCV\n",
    "iris = datasets.load_iris()\n",
    "parameters = {'kernel':('linear', 'rbf'), 'C':[1, 10]}\n",
    "svc = svm.SVC()\n",
    "clf = GridSearchCV(svc, parameters)\n",
    "clf.fit(iris.data, iris.target)\n",
    "GridSearchCV(estimator=SVC(),\n",
    "             param_grid={'C': [1, 10], 'kernel': ('linear', 'rbf')})\n",
    "sorted(clf.cv_results_.keys())\n",
    "[]"
   ]
  },
  {
   "cell_type": "code",
   "execution_count": null,
   "id": "39d3e466",
   "metadata": {},
   "outputs": [],
   "source": []
  }
 ],
 "metadata": {
  "colab": {
   "name": "Health Insurance Claimant Fraud .ipynb",
   "provenance": []
  },
  "kernelspec": {
   "display_name": "Python 3 (ipykernel)",
   "language": "python",
   "name": "python3"
  },
  "language_info": {
   "codemirror_mode": {
    "name": "ipython",
    "version": 3
   },
   "file_extension": ".py",
   "mimetype": "text/x-python",
   "name": "python",
   "nbconvert_exporter": "python",
   "pygments_lexer": "ipython3",
   "version": "3.9.7"
  }
 },
 "nbformat": 4,
 "nbformat_minor": 5
}
